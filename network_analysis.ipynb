{
  "nbformat": 4,
  "nbformat_minor": 0,
  "metadata": {
    "colab": {
      "name": "visualize_sn.ipynb",
      "provenance": [],
      "collapsed_sections": []
    },
    "kernelspec": {
      "name": "python3",
      "display_name": "Python 3"
    },
    "language_info": {
      "name": "python"
    }
  },
  "cells": [
    {
      "cell_type": "code",
      "execution_count": null,
      "metadata": {
        "colab": {
          "base_uri": "https://localhost:8080/"
        },
        "id": "ayz4J1FLvQnz",
        "outputId": "27404d8f-006b-453a-bc82-9b5cb43cf679"
      },
      "outputs": [
        {
          "output_type": "stream",
          "name": "stdout",
          "text": [
            "Mounted at /content/drive\n"
          ]
        }
      ],
      "source": [
        "from google.colab import drive\n",
        "import os\n",
        "drive.mount('/content/drive')\n",
        "DRIVE_PATH = \"/content/drive/My Drive/science4cast\""
      ]
    },
    {
      "cell_type": "code",
      "source": [
        "import matplotlib.pyplot as plt\n",
        "import networkx as nx\n",
        "import numpy as np\n",
        "import pandas as pd\n",
        "import pickle\n",
        "from scipy import sparse, stats\n",
        "from datetime import date, timedelta"
      ],
      "metadata": {
        "id": "Baa6v-jKx6rR"
      },
      "execution_count": null,
      "outputs": []
    },
    {
      "cell_type": "code",
      "source": [
        "day_origin = date(1990,1,1)\n",
        "NUM_OF_VERTICES = 64719\n",
        "\n",
        "def filter_by_year(df, before=None, after=None):\n",
        "  if before is not None:\n",
        "    day_max = date(before,12,31)\n",
        "  else:\n",
        "    day_max = date(2021,12,31)\n",
        "  \n",
        "  if after is not None:\n",
        "    day_min = date(after,1,1)\n",
        "  else:\n",
        "    day_min = day_origin\n",
        "  \n",
        "  return df[df['timestamp'].between((day_min - day_origin).days, (day_max - day_origin).days)]\n",
        "\n",
        "def map_concepts(df):\n",
        "  df['concept1'] = concepts.loc[df['node1']].values\n",
        "  df['concept2'] = concepts.loc[df['node2']].values\n",
        "\n",
        "  return df\n",
        "\n",
        "def day_to_date(day):\n",
        "  return day_origin + timedelta(days=day)\n",
        "\n",
        "def get_sparse_from_edges(edges):\n",
        "    adj = sparse.csr_matrix(\n",
        "        (np.ones(2*len(edges)), \n",
        "        (\n",
        "            np.hstack((edges['node1'], edges['node2'])),\n",
        "            np.hstack((edges['node2'], edges['node1']))\n",
        "        )), \n",
        "        shape = (NUM_OF_VERTICES,NUM_OF_VERTICES),\n",
        "        dtype = np.uint16\n",
        "    )\n",
        "\n",
        "    adj.setdiag(0) \n",
        "    adj.eliminate_zeros()\n",
        "    \n",
        "    return adj"
      ],
      "metadata": {
        "id": "oreSyEps6ZEb"
      },
      "execution_count": null,
      "outputs": []
    },
    {
      "cell_type": "code",
      "source": [
        "data_source = os.path.join(DRIVE_PATH, '20220203',  'SemanticGraph_delta_1_cutoff_0_minedge_1.pkl')\n",
        "with open(data_source, \"rb\" ) as pkl_file:\n",
        "  full_dynamic_graph_sparse, unconnected_vertex_pairs, unconnected_vertex_pairs_solution, year_start, years_delta, vertex_degree_cutoff, min_edges = pickle.load(pkl_file)"
      ],
      "metadata": {
        "id": "mA0u-kmsyF5L"
      },
      "execution_count": null,
      "outputs": []
    },
    {
      "cell_type": "code",
      "source": [
        "edges = pd.DataFrame(full_dynamic_graph_sparse, columns=['node1', 'node2', 'timestamp'], dtype='float')\n",
        "print('total of', len(edges), 'edges')\n",
        "edges.head()"
      ],
      "metadata": {
        "colab": {
          "base_uri": "https://localhost:8080/",
          "height": 225
        },
        "id": "CHo6dKP-3uxL",
        "outputId": "1a0b7c71-2406-4020-bd00-9809bd527a49"
      },
      "execution_count": null,
      "outputs": [
        {
          "output_type": "stream",
          "name": "stdout",
          "text": [
            "total of 17892352 edges\n"
          ]
        },
        {
          "output_type": "execute_result",
          "data": {
            "text/plain": [
              "     node1    node2  timestamp\n",
              "0  32126.0  32203.0     1460.0\n",
              "1  32126.0  32378.0     1460.0\n",
              "2  32126.0  32546.0     1460.0\n",
              "3  32126.0  44706.0     1460.0\n",
              "4  32126.0  48563.0     1460.0"
            ],
            "text/html": [
              "\n",
              "  <div id=\"df-1942091a-c51f-4f67-ae58-290d5c17eb49\">\n",
              "    <div class=\"colab-df-container\">\n",
              "      <div>\n",
              "<style scoped>\n",
              "    .dataframe tbody tr th:only-of-type {\n",
              "        vertical-align: middle;\n",
              "    }\n",
              "\n",
              "    .dataframe tbody tr th {\n",
              "        vertical-align: top;\n",
              "    }\n",
              "\n",
              "    .dataframe thead th {\n",
              "        text-align: right;\n",
              "    }\n",
              "</style>\n",
              "<table border=\"1\" class=\"dataframe\">\n",
              "  <thead>\n",
              "    <tr style=\"text-align: right;\">\n",
              "      <th></th>\n",
              "      <th>node1</th>\n",
              "      <th>node2</th>\n",
              "      <th>timestamp</th>\n",
              "    </tr>\n",
              "  </thead>\n",
              "  <tbody>\n",
              "    <tr>\n",
              "      <th>0</th>\n",
              "      <td>32126.0</td>\n",
              "      <td>32203.0</td>\n",
              "      <td>1460.0</td>\n",
              "    </tr>\n",
              "    <tr>\n",
              "      <th>1</th>\n",
              "      <td>32126.0</td>\n",
              "      <td>32378.0</td>\n",
              "      <td>1460.0</td>\n",
              "    </tr>\n",
              "    <tr>\n",
              "      <th>2</th>\n",
              "      <td>32126.0</td>\n",
              "      <td>32546.0</td>\n",
              "      <td>1460.0</td>\n",
              "    </tr>\n",
              "    <tr>\n",
              "      <th>3</th>\n",
              "      <td>32126.0</td>\n",
              "      <td>44706.0</td>\n",
              "      <td>1460.0</td>\n",
              "    </tr>\n",
              "    <tr>\n",
              "      <th>4</th>\n",
              "      <td>32126.0</td>\n",
              "      <td>48563.0</td>\n",
              "      <td>1460.0</td>\n",
              "    </tr>\n",
              "  </tbody>\n",
              "</table>\n",
              "</div>\n",
              "      <button class=\"colab-df-convert\" onclick=\"convertToInteractive('df-1942091a-c51f-4f67-ae58-290d5c17eb49')\"\n",
              "              title=\"Convert this dataframe to an interactive table.\"\n",
              "              style=\"display:none;\">\n",
              "        \n",
              "  <svg xmlns=\"http://www.w3.org/2000/svg\" height=\"24px\"viewBox=\"0 0 24 24\"\n",
              "       width=\"24px\">\n",
              "    <path d=\"M0 0h24v24H0V0z\" fill=\"none\"/>\n",
              "    <path d=\"M18.56 5.44l.94 2.06.94-2.06 2.06-.94-2.06-.94-.94-2.06-.94 2.06-2.06.94zm-11 1L8.5 8.5l.94-2.06 2.06-.94-2.06-.94L8.5 2.5l-.94 2.06-2.06.94zm10 10l.94 2.06.94-2.06 2.06-.94-2.06-.94-.94-2.06-.94 2.06-2.06.94z\"/><path d=\"M17.41 7.96l-1.37-1.37c-.4-.4-.92-.59-1.43-.59-.52 0-1.04.2-1.43.59L10.3 9.45l-7.72 7.72c-.78.78-.78 2.05 0 2.83L4 21.41c.39.39.9.59 1.41.59.51 0 1.02-.2 1.41-.59l7.78-7.78 2.81-2.81c.8-.78.8-2.07 0-2.86zM5.41 20L4 18.59l7.72-7.72 1.47 1.35L5.41 20z\"/>\n",
              "  </svg>\n",
              "      </button>\n",
              "      \n",
              "  <style>\n",
              "    .colab-df-container {\n",
              "      display:flex;\n",
              "      flex-wrap:wrap;\n",
              "      gap: 12px;\n",
              "    }\n",
              "\n",
              "    .colab-df-convert {\n",
              "      background-color: #E8F0FE;\n",
              "      border: none;\n",
              "      border-radius: 50%;\n",
              "      cursor: pointer;\n",
              "      display: none;\n",
              "      fill: #1967D2;\n",
              "      height: 32px;\n",
              "      padding: 0 0 0 0;\n",
              "      width: 32px;\n",
              "    }\n",
              "\n",
              "    .colab-df-convert:hover {\n",
              "      background-color: #E2EBFA;\n",
              "      box-shadow: 0px 1px 2px rgba(60, 64, 67, 0.3), 0px 1px 3px 1px rgba(60, 64, 67, 0.15);\n",
              "      fill: #174EA6;\n",
              "    }\n",
              "\n",
              "    [theme=dark] .colab-df-convert {\n",
              "      background-color: #3B4455;\n",
              "      fill: #D2E3FC;\n",
              "    }\n",
              "\n",
              "    [theme=dark] .colab-df-convert:hover {\n",
              "      background-color: #434B5C;\n",
              "      box-shadow: 0px 1px 3px 1px rgba(0, 0, 0, 0.15);\n",
              "      filter: drop-shadow(0px 1px 2px rgba(0, 0, 0, 0.3));\n",
              "      fill: #FFFFFF;\n",
              "    }\n",
              "  </style>\n",
              "\n",
              "      <script>\n",
              "        const buttonEl =\n",
              "          document.querySelector('#df-1942091a-c51f-4f67-ae58-290d5c17eb49 button.colab-df-convert');\n",
              "        buttonEl.style.display =\n",
              "          google.colab.kernel.accessAllowed ? 'block' : 'none';\n",
              "\n",
              "        async function convertToInteractive(key) {\n",
              "          const element = document.querySelector('#df-1942091a-c51f-4f67-ae58-290d5c17eb49');\n",
              "          const dataTable =\n",
              "            await google.colab.kernel.invokeFunction('convertToInteractive',\n",
              "                                                     [key], {});\n",
              "          if (!dataTable) return;\n",
              "\n",
              "          const docLinkHtml = 'Like what you see? Visit the ' +\n",
              "            '<a target=\"_blank\" href=https://colab.research.google.com/notebooks/data_table.ipynb>data table notebook</a>'\n",
              "            + ' to learn more about interactive tables.';\n",
              "          element.innerHTML = '';\n",
              "          dataTable['output_type'] = 'display_data';\n",
              "          await google.colab.output.renderOutput(dataTable, element);\n",
              "          const docLink = document.createElement('div');\n",
              "          docLink.innerHTML = docLinkHtml;\n",
              "          element.appendChild(docLink);\n",
              "        }\n",
              "      </script>\n",
              "    </div>\n",
              "  </div>\n",
              "  "
            ]
          },
          "metadata": {},
          "execution_count": 5
        }
      ]
    },
    {
      "cell_type": "code",
      "source": [
        "yrs = range(1993, 2020)\n",
        "day_to_date(edges[\"timestamp\"].min()), day_to_date(edges[\"timestamp\"].max())"
      ],
      "metadata": {
        "id": "UGe_PsrbYl1L",
        "colab": {
          "base_uri": "https://localhost:8080/"
        },
        "outputId": "2f5fbfae-5d52-46a0-e01f-eb44f2a0b45a"
      },
      "execution_count": null,
      "outputs": [
        {
          "output_type": "execute_result",
          "data": {
            "text/plain": [
              "(datetime.date(1993, 12, 31), datetime.date(2019, 12, 30))"
            ]
          },
          "metadata": {},
          "execution_count": 6
        }
      ]
    },
    {
      "cell_type": "code",
      "source": [
        "concepts = pd.read_csv(os.path.join(DRIVE_PATH, '20220203', 'full_concepts_new.txt'), header=None, names=['concept'])\n",
        "NUM_OF_VERTICES = len(concepts)\n",
        "print('NUM_OF_VERTICES:', NUM_OF_VERTICES)\n",
        "concepts.head()"
      ],
      "metadata": {
        "colab": {
          "base_uri": "https://localhost:8080/",
          "height": 225
        },
        "id": "sl2_BJyfy_oL",
        "outputId": "039fd05f-53ea-4f07-fb78-9f751ca5d082"
      },
      "execution_count": null,
      "outputs": [
        {
          "output_type": "stream",
          "name": "stdout",
          "text": [
            "NUM_OF_VERTICES: 64719\n"
          ]
        },
        {
          "output_type": "execute_result",
          "data": {
            "text/plain": [
              "                          concept\n",
              "0             deep neural network\n",
              "1    convolutional neural network\n",
              "2  generative adversarial network\n",
              "3        recurrent neural network\n",
              "4          real world application"
            ],
            "text/html": [
              "\n",
              "  <div id=\"df-cd434f53-a8f7-4be7-a38b-f740138fac00\">\n",
              "    <div class=\"colab-df-container\">\n",
              "      <div>\n",
              "<style scoped>\n",
              "    .dataframe tbody tr th:only-of-type {\n",
              "        vertical-align: middle;\n",
              "    }\n",
              "\n",
              "    .dataframe tbody tr th {\n",
              "        vertical-align: top;\n",
              "    }\n",
              "\n",
              "    .dataframe thead th {\n",
              "        text-align: right;\n",
              "    }\n",
              "</style>\n",
              "<table border=\"1\" class=\"dataframe\">\n",
              "  <thead>\n",
              "    <tr style=\"text-align: right;\">\n",
              "      <th></th>\n",
              "      <th>concept</th>\n",
              "    </tr>\n",
              "  </thead>\n",
              "  <tbody>\n",
              "    <tr>\n",
              "      <th>0</th>\n",
              "      <td>deep neural network</td>\n",
              "    </tr>\n",
              "    <tr>\n",
              "      <th>1</th>\n",
              "      <td>convolutional neural network</td>\n",
              "    </tr>\n",
              "    <tr>\n",
              "      <th>2</th>\n",
              "      <td>generative adversarial network</td>\n",
              "    </tr>\n",
              "    <tr>\n",
              "      <th>3</th>\n",
              "      <td>recurrent neural network</td>\n",
              "    </tr>\n",
              "    <tr>\n",
              "      <th>4</th>\n",
              "      <td>real world application</td>\n",
              "    </tr>\n",
              "  </tbody>\n",
              "</table>\n",
              "</div>\n",
              "      <button class=\"colab-df-convert\" onclick=\"convertToInteractive('df-cd434f53-a8f7-4be7-a38b-f740138fac00')\"\n",
              "              title=\"Convert this dataframe to an interactive table.\"\n",
              "              style=\"display:none;\">\n",
              "        \n",
              "  <svg xmlns=\"http://www.w3.org/2000/svg\" height=\"24px\"viewBox=\"0 0 24 24\"\n",
              "       width=\"24px\">\n",
              "    <path d=\"M0 0h24v24H0V0z\" fill=\"none\"/>\n",
              "    <path d=\"M18.56 5.44l.94 2.06.94-2.06 2.06-.94-2.06-.94-.94-2.06-.94 2.06-2.06.94zm-11 1L8.5 8.5l.94-2.06 2.06-.94-2.06-.94L8.5 2.5l-.94 2.06-2.06.94zm10 10l.94 2.06.94-2.06 2.06-.94-2.06-.94-.94-2.06-.94 2.06-2.06.94z\"/><path d=\"M17.41 7.96l-1.37-1.37c-.4-.4-.92-.59-1.43-.59-.52 0-1.04.2-1.43.59L10.3 9.45l-7.72 7.72c-.78.78-.78 2.05 0 2.83L4 21.41c.39.39.9.59 1.41.59.51 0 1.02-.2 1.41-.59l7.78-7.78 2.81-2.81c.8-.78.8-2.07 0-2.86zM5.41 20L4 18.59l7.72-7.72 1.47 1.35L5.41 20z\"/>\n",
              "  </svg>\n",
              "      </button>\n",
              "      \n",
              "  <style>\n",
              "    .colab-df-container {\n",
              "      display:flex;\n",
              "      flex-wrap:wrap;\n",
              "      gap: 12px;\n",
              "    }\n",
              "\n",
              "    .colab-df-convert {\n",
              "      background-color: #E8F0FE;\n",
              "      border: none;\n",
              "      border-radius: 50%;\n",
              "      cursor: pointer;\n",
              "      display: none;\n",
              "      fill: #1967D2;\n",
              "      height: 32px;\n",
              "      padding: 0 0 0 0;\n",
              "      width: 32px;\n",
              "    }\n",
              "\n",
              "    .colab-df-convert:hover {\n",
              "      background-color: #E2EBFA;\n",
              "      box-shadow: 0px 1px 2px rgba(60, 64, 67, 0.3), 0px 1px 3px 1px rgba(60, 64, 67, 0.15);\n",
              "      fill: #174EA6;\n",
              "    }\n",
              "\n",
              "    [theme=dark] .colab-df-convert {\n",
              "      background-color: #3B4455;\n",
              "      fill: #D2E3FC;\n",
              "    }\n",
              "\n",
              "    [theme=dark] .colab-df-convert:hover {\n",
              "      background-color: #434B5C;\n",
              "      box-shadow: 0px 1px 3px 1px rgba(0, 0, 0, 0.15);\n",
              "      filter: drop-shadow(0px 1px 2px rgba(0, 0, 0, 0.3));\n",
              "      fill: #FFFFFF;\n",
              "    }\n",
              "  </style>\n",
              "\n",
              "      <script>\n",
              "        const buttonEl =\n",
              "          document.querySelector('#df-cd434f53-a8f7-4be7-a38b-f740138fac00 button.colab-df-convert');\n",
              "        buttonEl.style.display =\n",
              "          google.colab.kernel.accessAllowed ? 'block' : 'none';\n",
              "\n",
              "        async function convertToInteractive(key) {\n",
              "          const element = document.querySelector('#df-cd434f53-a8f7-4be7-a38b-f740138fac00');\n",
              "          const dataTable =\n",
              "            await google.colab.kernel.invokeFunction('convertToInteractive',\n",
              "                                                     [key], {});\n",
              "          if (!dataTable) return;\n",
              "\n",
              "          const docLinkHtml = 'Like what you see? Visit the ' +\n",
              "            '<a target=\"_blank\" href=https://colab.research.google.com/notebooks/data_table.ipynb>data table notebook</a>'\n",
              "            + ' to learn more about interactive tables.';\n",
              "          element.innerHTML = '';\n",
              "          dataTable['output_type'] = 'display_data';\n",
              "          await google.colab.output.renderOutput(dataTable, element);\n",
              "          const docLink = document.createElement('div');\n",
              "          docLink.innerHTML = docLinkHtml;\n",
              "          element.appendChild(docLink);\n",
              "        }\n",
              "      </script>\n",
              "    </div>\n",
              "  </div>\n",
              "  "
            ]
          },
          "metadata": {},
          "execution_count": 7
        }
      ]
    },
    {
      "cell_type": "markdown",
      "source": [
        "## Node degree distribution"
      ],
      "metadata": {
        "id": "uGf-eCvylyI4"
      }
    },
    {
      "cell_type": "code",
      "source": [
        "yy = 2019\n",
        "\n",
        "edges_small = filter_by_year(edges, before=yy)\n",
        "degree_sequence = np.array(get_sparse_from_edges(edges_small).sum(axis=0)).flatten()\n",
        "\n",
        "hist, bin_edges = np.histogram(degree_sequence, bins=np.arange(degree_sequence.min(), degree_sequence.max()+1))\n",
        "bin_edges = bin_edges[1:-1]\n",
        "hist = hist[1:]\n",
        "bin_edges = bin_edges[hist != 0]\n",
        "hist = hist[hist != 0]\n",
        "plt.figure(figsize=(10, 6))\n",
        "plt.scatter(bin_edges, hist)\n",
        "plt.loglog()\n",
        "plt.xlabel('Node degree (log scale)', fontsize=16)\n",
        "plt.ylabel('# of nodes (log scale)', fontsize=16)\n",
        "plt.title('Degree distribution', fontsize=24)\n",
        "plt.xticks(fontsize=14)\n",
        "plt.yticks(fontsize=14)\n",
        "\n",
        "plt.scatter(64, 313, c='k', marker='*')\n",
        "\n",
        "plt.text(280, 290, '(64, 313)', fontsize=14)\n",
        "plt.text(70000, 3, 'Neural Network', fontsize=14)\n",
        "plt.text(1.5, 2.3, 'Video Compression Technique', fontsize=14)\n",
        "\n",
        "plt.arrow(470000, 2.5, 0, -1.1, head_width=30000, head_length=0.15,length_includes_head=True,edgecolor='k', facecolor='k')\n",
        "plt.arrow(230, 313, -130, 0, head_width=30, head_length=10, length_includes_head=True, edgecolor='k', facecolor='k')\n",
        "plt.arrow(2, 2, 0, -0.7, head_width=0.15, head_length=0.15, length_includes_head=True, edgecolor='k', facecolor='k')\n",
        "\n",
        "plt.tight_layout()\n",
        "plt.savefig(os.path.join(DRIVE_PATH, '20220203', 'degree_hist', str(yy)+'.pdf'), dpi=300, pad_inches=0)\n",
        "plt.show()"
      ],
      "metadata": {
        "colab": {
          "base_uri": "https://localhost:8080/",
          "height": 498
        },
        "id": "pfoIIAgWD1Sd",
        "outputId": "dc44b886-70a8-4505-b9b9-35ff077eba14"
      },
      "execution_count": null,
      "outputs": [
        {
          "output_type": "stream",
          "name": "stderr",
          "text": [
            "/usr/local/lib/python3.7/dist-packages/scipy/sparse/_index.py:126: SparseEfficiencyWarning: Changing the sparsity structure of a csr_matrix is expensive. lil_matrix is more efficient.\n",
            "  self._set_arrayXarray(i, j, x)\n"
          ]
        },
        {
          "output_type": "display_data",
          "data": {
            "text/plain": [
              "<Figure size 720x432 with 1 Axes>"
            ],
            "image/png": "[encoded data removed]"
          },
          "metadata": {
            "needs_background": "light"
          }
        }
      ]
    },
    {
      "cell_type": "code",
      "source": [
        "pd.DataFrame(data={'xvalue': bin_edges, 'counts': hist}).to_csv(os.path.join(DRIVE_PATH,'degseq.csv'), index=False)\n",
        "\n",
        "print('total', sum(degree_sequence)/2, 'edges')\n",
        "print()\n",
        "print('max degree', degree_sequence.max(), concepts.loc[degree_sequence == degree_sequence.max()].values.flatten())\n",
        "print()\n",
        "print(np.flip(sorted(degree_sequence)[-10:]))\n",
        "idx = np.flip(degree_sequence.argsort()[-10:])\n",
        "print(idx)\n",
        "print(concepts.loc[idx])\n",
        "print()\n",
        "print('min degree', degree_sequence.min(), degree_sequence[degree_sequence>0].min(),\n",
        "      concepts.loc[degree_sequence[degree_sequence>0].argmin()])\n",
        "print()\n",
        "print('mean degree', degree_sequence.mean(), degree_sequence[degree_sequence>0].mean())\n",
        "print('mode degree', stats.mode(degree_sequence[degree_sequence>0]))\n"
      ],
      "metadata": {
        "colab": {
          "base_uri": "https://localhost:8080/"
        },
        "id": "m4K_HmOv-bLm",
        "outputId": "341d9445-439d-4480-d4d4-c8c312dde419"
      },
      "execution_count": null,
      "outputs": [
        {
          "output_type": "stream",
          "name": "stdout",
          "text": [
            "total 17892352.0 edges\n",
            "\n",
            "max degree 466319 ['neural network']\n",
            "\n",
            "[466319 198050 195345 169555 159403 150227 127642 115334  89267  84956]\n",
            "[31762 31764 31763     1 31794 31761     0 31870 31909 31961]\n",
            "                            concept\n",
            "31762                neural network\n",
            "31764                 deep learning\n",
            "31763              machine learning\n",
            "1      convolutional neural network\n",
            "31794                    real world\n",
            "31761           experimental result\n",
            "0               deep neural network\n",
            "31870                   large scale\n",
            "31909                high dimension\n",
            "31961              high dimensional\n",
            "\n",
            "min degree 0 2 concept    video compression technique\n",
            "Name: 29459, dtype: object\n",
            "\n",
            "mean degree 552.9242417219054 563.7872447693471\n",
            "mode degree ModeResult(mode=array([64], dtype=uint64), count=array([313]))\n"
          ]
        }
      ]
    },
    {
      "cell_type": "code",
      "source": [
        "for yy in yrs:\n",
        "  edges_small = filter_by_year(edges, before=yy)\n",
        "  degree_sequence = np.array(get_sparse_from_edges(edges_small).sum(axis=0)).flatten()\n",
        "  print('total', sum(degree_sequence)/2, 'edges')\n",
        "  print('max degree', degree_sequence.max(), concepts.loc[degree_sequence == degree_sequence.max()].values.flatten())\n",
        "  print('min degree', degree_sequence.min())\n",
        "  print('mean degree', degree_sequence.mean())\n",
        "  hist, bin_edges = np.histogram(degree_sequence, bins=np.arange(degree_sequence.min(), degree_sequence.max()+1))\n",
        "  bin_edges = bin_edges[1:-1]\n",
        "  hist = hist[1:]\n",
        "  bin_edges = bin_edges[hist != 0]\n",
        "  hist = hist[hist != 0]\n",
        "  plt.figure()\n",
        "  plt.scatter(bin_edges, hist)\n",
        "  plt.loglog()\n",
        "  plt.xlabel('node degree (log scale)')\n",
        "  plt.ylabel('number of nodes (log scale)')\n",
        "  plt.title('degree distribution at '+str(yy))\n",
        "  plt.savefig(os.path.join(DRIVE_PATH, '20220203', 'degree_hist', str(yy)+'.jpg'))\n",
        "  #plt.show()"
      ],
      "metadata": {
        "colab": {
          "base_uri": "https://localhost:8080/",
          "height": 1000
        },
        "id": "AsIDmzUUC488",
        "outputId": "398b5abe-14bc-4bfb-8599-b0dee8b52e96"
      },
      "execution_count": null,
      "outputs": [
        {
          "output_type": "stream",
          "name": "stderr",
          "text": [
            "/usr/local/lib/python3.7/dist-packages/scipy/sparse/_index.py:126: SparseEfficiencyWarning: Changing the sparsity structure of a csr_matrix is expensive. lil_matrix is more efficient.\n",
            "  self._set_arrayXarray(i, j, x)\n"
          ]
        },
        {
          "output_type": "stream",
          "name": "stdout",
          "text": [
            "total 21.0 edges\n",
            "max degree 6 ['dynamic environment' 'run time' 'mobile robot' 'autonomous agent'\n",
            " 'agent action' 'agent control' 'might arise']\n",
            "min degree 0\n",
            "mean degree 0.0006489593473323136\n"
          ]
        },
        {
          "output_type": "stream",
          "name": "stderr",
          "text": [
            "/usr/local/lib/python3.7/dist-packages/scipy/sparse/_index.py:126: SparseEfficiencyWarning: Changing the sparsity structure of a csr_matrix is expensive. lil_matrix is more efficient.\n",
            "  self._set_arrayXarray(i, j, x)\n"
          ]
        },
        {
          "output_type": "stream",
          "name": "stdout",
          "text": [
            "total 1058.0 edges\n",
            "max degree 49 ['decision tree']\n",
            "min degree 0\n",
            "mean degree 0.032695189975123225\n"
          ]
        },
        {
          "output_type": "stream",
          "name": "stderr",
          "text": [
            "/usr/local/lib/python3.7/dist-packages/scipy/sparse/_index.py:126: SparseEfficiencyWarning: Changing the sparsity structure of a csr_matrix is expensive. lil_matrix is more efficient.\n",
            "  self._set_arrayXarray(i, j, x)\n"
          ]
        },
        {
          "output_type": "stream",
          "name": "stdout",
          "text": [
            "total 3344.0 edges\n",
            "max degree 68 ['decision tree']\n",
            "min degree 0\n",
            "mean degree 0.10333905035615507\n"
          ]
        },
        {
          "output_type": "stream",
          "name": "stderr",
          "text": [
            "/usr/local/lib/python3.7/dist-packages/scipy/sparse/_index.py:126: SparseEfficiencyWarning: Changing the sparsity structure of a csr_matrix is expensive. lil_matrix is more efficient.\n",
            "  self._set_arrayXarray(i, j, x)\n"
          ]
        },
        {
          "output_type": "stream",
          "name": "stdout",
          "text": [
            "total 5287.0 edges\n",
            "max degree 114 ['machine learning']\n",
            "min degree 0\n",
            "mean degree 0.1633832413974258\n"
          ]
        },
        {
          "output_type": "stream",
          "name": "stderr",
          "text": [
            "/usr/local/lib/python3.7/dist-packages/scipy/sparse/_index.py:126: SparseEfficiencyWarning: Changing the sparsity structure of a csr_matrix is expensive. lil_matrix is more efficient.\n",
            "  self._set_arrayXarray(i, j, x)\n"
          ]
        },
        {
          "output_type": "stream",
          "name": "stdout",
          "text": [
            "total 6837.0 edges\n",
            "max degree 127 ['machine learning']\n",
            "min degree 0\n",
            "mean degree 0.2112826217957632\n"
          ]
        },
        {
          "output_type": "stream",
          "name": "stderr",
          "text": [
            "/usr/local/lib/python3.7/dist-packages/scipy/sparse/_index.py:126: SparseEfficiencyWarning: Changing the sparsity structure of a csr_matrix is expensive. lil_matrix is more efficient.\n",
            "  self._set_arrayXarray(i, j, x)\n"
          ]
        },
        {
          "output_type": "stream",
          "name": "stdout",
          "text": [
            "total 9795.0 edges\n",
            "max degree 204 ['machine learning']\n",
            "min degree 0\n",
            "mean degree 0.3026931812914291\n"
          ]
        },
        {
          "output_type": "stream",
          "name": "stderr",
          "text": [
            "/usr/local/lib/python3.7/dist-packages/scipy/sparse/_index.py:126: SparseEfficiencyWarning: Changing the sparsity structure of a csr_matrix is expensive. lil_matrix is more efficient.\n",
            "  self._set_arrayXarray(i, j, x)\n"
          ]
        },
        {
          "output_type": "stream",
          "name": "stdout",
          "text": [
            "total 13325.0 edges\n",
            "max degree 204 ['machine learning']\n",
            "min degree 0\n",
            "mean degree 0.41178015729538464\n"
          ]
        },
        {
          "output_type": "stream",
          "name": "stderr",
          "text": [
            "/usr/local/lib/python3.7/dist-packages/scipy/sparse/_index.py:126: SparseEfficiencyWarning: Changing the sparsity structure of a csr_matrix is expensive. lil_matrix is more efficient.\n",
            "  self._set_arrayXarray(i, j, x)\n"
          ]
        },
        {
          "output_type": "stream",
          "name": "stdout",
          "text": [
            "total 22670.0 edges\n",
            "max degree 476 ['logic program']\n",
            "min degree 0\n",
            "mean degree 0.7005670668582642\n"
          ]
        },
        {
          "output_type": "stream",
          "name": "stderr",
          "text": [
            "/usr/local/lib/python3.7/dist-packages/scipy/sparse/_index.py:126: SparseEfficiencyWarning: Changing the sparsity structure of a csr_matrix is expensive. lil_matrix is more efficient.\n",
            "  self._set_arrayXarray(i, j, x)\n"
          ]
        },
        {
          "output_type": "stream",
          "name": "stdout",
          "text": [
            "total 27081.0 edges\n",
            "max degree 588 ['logic program']\n",
            "min degree 0\n",
            "mean degree 0.8368794326241135\n"
          ]
        },
        {
          "output_type": "stream",
          "name": "stderr",
          "text": [
            "/usr/local/lib/python3.7/dist-packages/scipy/sparse/_index.py:126: SparseEfficiencyWarning: Changing the sparsity structure of a csr_matrix is expensive. lil_matrix is more efficient.\n",
            "  self._set_arrayXarray(i, j, x)\n"
          ]
        },
        {
          "output_type": "stream",
          "name": "stdout",
          "text": [
            "total 36855.0 edges\n",
            "max degree 832 ['logic program']\n",
            "min degree 0\n",
            "mean degree 1.1389236545682102\n"
          ]
        },
        {
          "output_type": "stream",
          "name": "stderr",
          "text": [
            "/usr/local/lib/python3.7/dist-packages/scipy/sparse/_index.py:126: SparseEfficiencyWarning: Changing the sparsity structure of a csr_matrix is expensive. lil_matrix is more efficient.\n",
            "  self._set_arrayXarray(i, j, x)\n"
          ]
        },
        {
          "output_type": "stream",
          "name": "stdout",
          "text": [
            "total 48081.0 edges\n",
            "max degree 985 ['logic program']\n",
            "min degree 0\n",
            "mean degree 1.485838779956427\n"
          ]
        },
        {
          "output_type": "stream",
          "name": "stderr",
          "text": [
            "/usr/local/lib/python3.7/dist-packages/scipy/sparse/_index.py:126: SparseEfficiencyWarning: Changing the sparsity structure of a csr_matrix is expensive. lil_matrix is more efficient.\n",
            "  self._set_arrayXarray(i, j, x)\n"
          ]
        },
        {
          "output_type": "stream",
          "name": "stdout",
          "text": [
            "total 68512.0 edges\n",
            "max degree 1170 ['logic program']\n",
            "min degree 0\n",
            "mean degree 2.1172144192586413\n"
          ]
        },
        {
          "output_type": "stream",
          "name": "stderr",
          "text": [
            "/usr/local/lib/python3.7/dist-packages/scipy/sparse/_index.py:126: SparseEfficiencyWarning: Changing the sparsity structure of a csr_matrix is expensive. lil_matrix is more efficient.\n",
            "  self._set_arrayXarray(i, j, x)\n"
          ]
        },
        {
          "output_type": "stream",
          "name": "stdout",
          "text": [
            "total 88877.0 edges\n",
            "max degree 1446 ['neural network']\n",
            "min degree 0\n",
            "mean degree 2.746550472040668\n"
          ]
        },
        {
          "output_type": "stream",
          "name": "stderr",
          "text": [
            "/usr/local/lib/python3.7/dist-packages/scipy/sparse/_index.py:126: SparseEfficiencyWarning: Changing the sparsity structure of a csr_matrix is expensive. lil_matrix is more efficient.\n",
            "  self._set_arrayXarray(i, j, x)\n"
          ]
        },
        {
          "output_type": "stream",
          "name": "stdout",
          "text": [
            "total 106390.0 edges\n",
            "max degree 1584 ['neural network']\n",
            "min degree 0\n",
            "mean degree 3.287751664889754\n"
          ]
        },
        {
          "output_type": "stream",
          "name": "stderr",
          "text": [
            "/usr/local/lib/python3.7/dist-packages/scipy/sparse/_index.py:126: SparseEfficiencyWarning: Changing the sparsity structure of a csr_matrix is expensive. lil_matrix is more efficient.\n",
            "  self._set_arrayXarray(i, j, x)\n"
          ]
        },
        {
          "output_type": "stream",
          "name": "stdout",
          "text": [
            "total 141641.0 edges\n",
            "max degree 2095 ['neural network']\n",
            "min degree 0\n",
            "mean degree 4.377107186452201\n"
          ]
        },
        {
          "output_type": "stream",
          "name": "stderr",
          "text": [
            "/usr/local/lib/python3.7/dist-packages/scipy/sparse/_index.py:126: SparseEfficiencyWarning: Changing the sparsity structure of a csr_matrix is expensive. lil_matrix is more efficient.\n",
            "  self._set_arrayXarray(i, j, x)\n"
          ]
        },
        {
          "output_type": "stream",
          "name": "stdout",
          "text": [
            "total 193830.0 edges\n",
            "max degree 2515 ['neural network']\n",
            "min degree 0\n",
            "mean degree 5.989894775877254\n"
          ]
        },
        {
          "output_type": "stream",
          "name": "stderr",
          "text": [
            "/usr/local/lib/python3.7/dist-packages/scipy/sparse/_index.py:126: SparseEfficiencyWarning: Changing the sparsity structure of a csr_matrix is expensive. lil_matrix is more efficient.\n",
            "  self._set_arrayXarray(i, j, x)\n"
          ]
        },
        {
          "output_type": "stream",
          "name": "stdout",
          "text": [
            "total 279368.0 edges\n",
            "max degree 3108 ['neural network']\n",
            "min degree 0\n",
            "mean degree 8.633260711692085\n"
          ]
        },
        {
          "output_type": "stream",
          "name": "stderr",
          "text": [
            "/usr/local/lib/python3.7/dist-packages/scipy/sparse/_index.py:126: SparseEfficiencyWarning: Changing the sparsity structure of a csr_matrix is expensive. lil_matrix is more efficient.\n",
            "  self._set_arrayXarray(i, j, x)\n"
          ]
        },
        {
          "output_type": "stream",
          "name": "stdout",
          "text": [
            "total 427541.0 edges\n",
            "max degree 4272 ['neural network']\n",
            "min degree 0\n",
            "mean degree 13.212225157990698\n"
          ]
        },
        {
          "output_type": "stream",
          "name": "stderr",
          "text": [
            "/usr/local/lib/python3.7/dist-packages/scipy/sparse/_index.py:126: SparseEfficiencyWarning: Changing the sparsity structure of a csr_matrix is expensive. lil_matrix is more efficient.\n",
            "  self._set_arrayXarray(i, j, x)\n"
          ]
        },
        {
          "output_type": "stream",
          "name": "stdout",
          "text": [
            "total 652089.0 edges\n",
            "max degree 5506 ['experimental result']\n",
            "min degree 0\n",
            "mean degree 20.151392944884808\n"
          ]
        },
        {
          "output_type": "stream",
          "name": "stderr",
          "text": [
            "/usr/local/lib/python3.7/dist-packages/scipy/sparse/_index.py:126: SparseEfficiencyWarning: Changing the sparsity structure of a csr_matrix is expensive. lil_matrix is more efficient.\n",
            "  self._set_arrayXarray(i, j, x)\n"
          ]
        },
        {
          "output_type": "stream",
          "name": "stdout",
          "text": [
            "total 1043581.0 edges\n",
            "max degree 8782 ['experimental result']\n",
            "min degree 0\n",
            "mean degree 32.24960212611443\n"
          ]
        },
        {
          "output_type": "stream",
          "name": "stderr",
          "text": [
            "/usr/local/lib/python3.7/dist-packages/scipy/sparse/_index.py:126: SparseEfficiencyWarning: Changing the sparsity structure of a csr_matrix is expensive. lil_matrix is more efficient.\n",
            "  self._set_arrayXarray(i, j, x)\n"
          ]
        },
        {
          "output_type": "stream",
          "name": "stdout",
          "text": [
            "total 1584676.0 edges\n",
            "max degree 13015 ['machine learning']\n",
            "min degree 0\n",
            "mean degree 48.970966794913394\n"
          ]
        },
        {
          "output_type": "stream",
          "name": "stderr",
          "text": [
            "/usr/local/lib/python3.7/dist-packages/ipykernel_launcher.py:13: RuntimeWarning: More than 20 figures have been opened. Figures created through the pyplot interface (`matplotlib.pyplot.figure`) are retained until explicitly closed and may consume too much memory. (To control this warning, see the rcParam `figure.max_open_warning`).\n",
            "  del sys.path[0]\n",
            "/usr/local/lib/python3.7/dist-packages/scipy/sparse/_index.py:126: SparseEfficiencyWarning: Changing the sparsity structure of a csr_matrix is expensive. lil_matrix is more efficient.\n",
            "  self._set_arrayXarray(i, j, x)\n"
          ]
        },
        {
          "output_type": "stream",
          "name": "stdout",
          "text": [
            "total 2280659.0 edges\n",
            "max degree 19915 ['machine learning']\n",
            "min degree 0\n",
            "mean degree 70.47880838702699\n"
          ]
        },
        {
          "output_type": "stream",
          "name": "stderr",
          "text": [
            "/usr/local/lib/python3.7/dist-packages/ipykernel_launcher.py:13: RuntimeWarning: More than 20 figures have been opened. Figures created through the pyplot interface (`matplotlib.pyplot.figure`) are retained until explicitly closed and may consume too much memory. (To control this warning, see the rcParam `figure.max_open_warning`).\n",
            "  del sys.path[0]\n",
            "/usr/local/lib/python3.7/dist-packages/scipy/sparse/_index.py:126: SparseEfficiencyWarning: Changing the sparsity structure of a csr_matrix is expensive. lil_matrix is more efficient.\n",
            "  self._set_arrayXarray(i, j, x)\n"
          ]
        },
        {
          "output_type": "stream",
          "name": "stdout",
          "text": [
            "total 3345458.0 edges\n",
            "max degree 38558 ['neural network']\n",
            "min degree 0\n",
            "mean degree 103.38410667655558\n"
          ]
        },
        {
          "output_type": "stream",
          "name": "stderr",
          "text": [
            "/usr/local/lib/python3.7/dist-packages/ipykernel_launcher.py:13: RuntimeWarning: More than 20 figures have been opened. Figures created through the pyplot interface (`matplotlib.pyplot.figure`) are retained until explicitly closed and may consume too much memory. (To control this warning, see the rcParam `figure.max_open_warning`).\n",
            "  del sys.path[0]\n",
            "/usr/local/lib/python3.7/dist-packages/scipy/sparse/_index.py:126: SparseEfficiencyWarning: Changing the sparsity structure of a csr_matrix is expensive. lil_matrix is more efficient.\n",
            "  self._set_arrayXarray(i, j, x)\n"
          ]
        },
        {
          "output_type": "stream",
          "name": "stdout",
          "text": [
            "total 5019714.0 edges\n",
            "max degree 79520 ['neural network']\n",
            "min degree 0\n",
            "mean degree 155.12334863023224\n"
          ]
        },
        {
          "output_type": "stream",
          "name": "stderr",
          "text": [
            "/usr/local/lib/python3.7/dist-packages/ipykernel_launcher.py:13: RuntimeWarning: More than 20 figures have been opened. Figures created through the pyplot interface (`matplotlib.pyplot.figure`) are retained until explicitly closed and may consume too much memory. (To control this warning, see the rcParam `figure.max_open_warning`).\n",
            "  del sys.path[0]\n",
            "/usr/local/lib/python3.7/dist-packages/scipy/sparse/_index.py:126: SparseEfficiencyWarning: Changing the sparsity structure of a csr_matrix is expensive. lil_matrix is more efficient.\n",
            "  self._set_arrayXarray(i, j, x)\n"
          ]
        },
        {
          "output_type": "stream",
          "name": "stdout",
          "text": [
            "total 7655463.0 edges\n",
            "max degree 157933 ['neural network']\n",
            "min degree 0\n",
            "mean degree 236.57544152412737\n"
          ]
        },
        {
          "output_type": "stream",
          "name": "stderr",
          "text": [
            "/usr/local/lib/python3.7/dist-packages/ipykernel_launcher.py:13: RuntimeWarning: More than 20 figures have been opened. Figures created through the pyplot interface (`matplotlib.pyplot.figure`) are retained until explicitly closed and may consume too much memory. (To control this warning, see the rcParam `figure.max_open_warning`).\n",
            "  del sys.path[0]\n",
            "/usr/local/lib/python3.7/dist-packages/scipy/sparse/_index.py:126: SparseEfficiencyWarning: Changing the sparsity structure of a csr_matrix is expensive. lil_matrix is more efficient.\n",
            "  self._set_arrayXarray(i, j, x)\n"
          ]
        },
        {
          "output_type": "stream",
          "name": "stdout",
          "text": [
            "total 11767830.0 edges\n",
            "max degree 287083 ['neural network']\n",
            "min degree 0\n",
            "mean degree 363.65920363417234\n"
          ]
        },
        {
          "output_type": "stream",
          "name": "stderr",
          "text": [
            "/usr/local/lib/python3.7/dist-packages/ipykernel_launcher.py:13: RuntimeWarning: More than 20 figures have been opened. Figures created through the pyplot interface (`matplotlib.pyplot.figure`) are retained until explicitly closed and may consume too much memory. (To control this warning, see the rcParam `figure.max_open_warning`).\n",
            "  del sys.path[0]\n",
            "/usr/local/lib/python3.7/dist-packages/scipy/sparse/_index.py:126: SparseEfficiencyWarning: Changing the sparsity structure of a csr_matrix is expensive. lil_matrix is more efficient.\n",
            "  self._set_arrayXarray(i, j, x)\n"
          ]
        },
        {
          "output_type": "stream",
          "name": "stdout",
          "text": [
            "total 17892352.0 edges\n",
            "max degree 466319 ['neural network']\n",
            "min degree 0\n",
            "mean degree 552.9242417219054\n"
          ]
        },
        {
          "output_type": "stream",
          "name": "stderr",
          "text": [
            "/usr/local/lib/python3.7/dist-packages/ipykernel_launcher.py:13: RuntimeWarning: More than 20 figures have been opened. Figures created through the pyplot interface (`matplotlib.pyplot.figure`) are retained until explicitly closed and may consume too much memory. (To control this warning, see the rcParam `figure.max_open_warning`).\n",
            "  del sys.path[0]\n"
          ]
        },
        {
          "output_type": "display_data",
          "data": {
            "text/plain": [
              "<Figure size 432x288 with 1 Axes>"
            ],
            "image/png": "[encoded data removed]"
          },
          "metadata": {
            "needs_background": "light"
          }
        },
        {
          "output_type": "display_data",
          "data": {
            "text/plain": [
              "<Figure size 432x288 with 1 Axes>"
            ],
            "image/png": "[encoded data removed]"
          },
          "metadata": {
            "needs_background": "light"
          }
        },
        {
          "output_type": "display_data",
          "data": {
            "text/plain": [
              "<Figure size 432x288 with 1 Axes>"
            ],
            "image/png": "[encoded data removed]"
          },
          "metadata": {
            "needs_background": "light"
          }
        },
        {
          "output_type": "display_data",
          "data": {
            "text/plain": [
              "<Figure size 432x288 with 1 Axes>"
            ],
            "image/png": "[encoded data removed]"
          },
          "metadata": {
            "needs_background": "light"
          }
        },
        {
          "output_type": "display_data",
          "data": {
            "text/plain": [
              "<Figure size 432x288 with 1 Axes>"
            ],
            "image/png": "[encoded data removed]"
          },
          "metadata": {
            "needs_background": "light"
          }
        },
        {
          "output_type": "display_data",
          "data": {
            "text/plain": [
              "<Figure size 432x288 with 1 Axes>"
            ],
            "image/png": "[encoded data removed]"
          },
          "metadata": {
            "needs_background": "light"
          }
        },
        {
          "output_type": "display_data",
          "data": {
            "text/plain": [
              "<Figure size 432x288 with 1 Axes>"
            ],
            "image/png": "[encoded data removed]"
          },
          "metadata": {
            "needs_background": "light"
          }
        },
        {
          "output_type": "display_data",
          "data": {
            "text/plain": [
              "<Figure size 432x288 with 1 Axes>"
            ],
            "image/png": "[encoded data removed]"
          },
          "metadata": {
            "needs_background": "light"
          }
        },
        {
          "output_type": "display_data",
          "data": {
            "text/plain": [
              "<Figure size 432x288 with 1 Axes>"
            ],
            "image/png": "[encoded data removed]"
          },
          "metadata": {
            "needs_background": "light"
          }
        },
        {
          "output_type": "display_data",
          "data": {
            "text/plain": [
              "<Figure size 432x288 with 1 Axes>"
            ],
            "image/png": "[encoded data removed]"
          },
          "metadata": {
            "needs_background": "light"
          }
        },
        {
          "output_type": "display_data",
          "data": {
            "text/plain": [
              "<Figure size 432x288 with 1 Axes>"
            ],
            "image/png": "[encoded data removed]"
          },
          "metadata": {
            "needs_background": "light"
          }
        },
        {
          "output_type": "display_data",
          "data": {
            "text/plain": [
              "<Figure size 432x288 with 1 Axes>"
            ],
            "image/png": "[encoded data removed]"
          },
          "metadata": {
            "needs_background": "light"
          }
        },
        {
          "output_type": "display_data",
          "data": {
            "text/plain": [
              "<Figure size 432x288 with 1 Axes>"
            ],
            "image/png": "[encoded data removed]"
          },
          "metadata": {
            "needs_background": "light"
          }
        },
        {
          "output_type": "display_data",
          "data": {
            "text/plain": [
              "<Figure size 432x288 with 1 Axes>"
            ],
            "image/png": "[encoded data removed]"
          },
          "metadata": {
            "needs_background": "light"
          }
        },
        {
          "output_type": "display_data",
          "data": {
            "text/plain": [
              "<Figure size 432x288 with 1 Axes>"
            ],
            "image/png": "[encoded data removed]"
          },
          "metadata": {
            "needs_background": "light"
          }
        },
        {
          "output_type": "display_data",
          "data": {
            "text/plain": [
              "<Figure size 432x288 with 1 Axes>"
            ],
            "image/png": "[encoded data removed]"
          },
          "metadata": {
            "needs_background": "light"
          }
        },
        {
          "output_type": "display_data",
          "data": {
            "text/plain": [
              "<Figure size 432x288 with 1 Axes>"
            ],
            "image/png": "[encoded data removed]"
          },
          "metadata": {
            "needs_background": "light"
          }
        },
        {
          "output_type": "display_data",
          "data": {
            "text/plain": [
              "<Figure size 432x288 with 1 Axes>"
            ],
            "image/png": "[encoded data removed]"
          },
          "metadata": {
            "needs_background": "light"
          }
        },
        {
          "output_type": "display_data",
          "data": {
            "text/plain": [
              "<Figure size 432x288 with 1 Axes>"
            ],
            "image/png": "[encoded data removed]"
          },
          "metadata": {
            "needs_background": "light"
          }
        },
        {
          "output_type": "display_data",
          "data": {
            "text/plain": [
              "<Figure size 432x288 with 1 Axes>"
            ],
            "image/png": "[encoded data removed]"
          },
          "metadata": {
            "needs_background": "light"
          }
        },
        {
          "output_type": "display_data",
          "data": {
            "text/plain": [
              "<Figure size 432x288 with 1 Axes>"
            ],
            "image/png": "[encoded data removed]"
          },
          "metadata": {
            "needs_background": "light"
          }
        },
        {
          "output_type": "display_data",
          "data": {
            "text/plain": [
              "<Figure size 432x288 with 1 Axes>"
            ],
            "image/png": "[encoded data removed]"
          },
          "metadata": {
            "needs_background": "light"
          }
        },
        {
          "output_type": "display_data",
          "data": {
            "text/plain": [
              "<Figure size 432x288 with 1 Axes>"
            ],
            "image/png": "[encoded data removed]"
          },
          "metadata": {
            "needs_background": "light"
          }
        },
        {
          "output_type": "display_data",
          "data": {
            "text/plain": [
              "<Figure size 432x288 with 1 Axes>"
            ],
            "image/png": "[encoded data removed]"
          },
          "metadata": {
            "needs_background": "light"
          }
        },
        {
          "output_type": "display_data",
          "data": {
            "text/plain": [
              "<Figure size 432x288 with 1 Axes>"
            ],
            "image/png": "[encoded data removed]"
          },
          "metadata": {
            "needs_background": "light"
          }
        },
        {
          "output_type": "display_data",
          "data": {
            "text/plain": [
              "<Figure size 432x288 with 1 Axes>"
            ],
            "image/png": "[encoded data removed]"
          },
          "metadata": {
            "needs_background": "light"
          }
        },
        {
          "output_type": "display_data",
          "data": {
            "text/plain": [
              "<Figure size 432x288 with 1 Axes>"
            ],
            "image/png": "[encoded data removed]"
          },
          "metadata": {
            "needs_background": "light"
          }
        }
      ]
    },
    {
      "cell_type": "code",
      "source": [
        "import glob\n",
        "from PIL import Image\n",
        "\n",
        "frames = [Image.open(image) for image in glob.glob(os.path.join(DRIVE_PATH, '20220203', 'degree_hist', '*.jpg'))]\n",
        "frame_one = frames[0]\n",
        "frame_one.save(os.path.join(DRIVE_PATH, '20220203', 'degree_hist', \"node_degree_loglog.gif\"), format=\"GIF\", append_images=frames,\n",
        "            save_all=True, duration=500, loop=0)"
      ],
      "metadata": {
        "id": "28yMmrtiNm5f"
      },
      "execution_count": null,
      "outputs": []
    },
    {
      "cell_type": "markdown",
      "source": [
        "## Connected components"
      ],
      "metadata": {
        "id": "9j6HN4MXmKuX"
      }
    },
    {
      "cell_type": "code",
      "source": [
        "ccs = []\n",
        "\n",
        "for yy in yrs:\n",
        "  edges_small = filter_by_year(edges, before=yy)\n",
        "  G = nx.from_pandas_edgelist(edges_small, source='node1', target='node2')\n",
        "  G.add_nodes_from(range(NUM_OF_VERTICES))\n",
        "  cc = [len(c) for c in nx.connected_components(G)]\n",
        "  print(max(cc), sum([1 for c in cc if c==1]))\n",
        "  ccs.append(cc)"
      ],
      "metadata": {
        "colab": {
          "base_uri": "https://localhost:8080/"
        },
        "id": "E-6uZOmXStH0",
        "outputId": "036364bc-f614-4927-fae6-76028f22f11c"
      },
      "execution_count": null,
      "outputs": [
        {
          "output_type": "stream",
          "name": "stdout",
          "text": [
            "7 64712\n",
            "49 64561\n",
            "353 64288\n",
            "632 64041\n",
            "828 63880\n",
            "1146 63533\n",
            "1467 63194\n",
            "2281 62349\n",
            "2733 61898\n",
            "3486 61164\n",
            "4285 60384\n",
            "5353 59325\n",
            "6435 58249\n",
            "7507 57195\n",
            "9125 55573\n",
            "11228 53478\n",
            "14036 50673\n",
            "17604 47107\n",
            "21914 42801\n",
            "27256 37459\n",
            "32512 32207\n",
            "37499 27220\n",
            "43412 21307\n",
            "49920 14799\n",
            "55978 8741\n",
            "60771 3948\n",
            "63472 1247\n"
          ]
        }
      ]
    },
    {
      "cell_type": "code",
      "source": [
        "fig, ax1 = plt.subplots(figsize=(10, 6))\n",
        "\n",
        "ax2 = ax1.twinx()\n",
        "ax1.plot(yrs, [sum(np.array(cc)>1) for cc in ccs])\n",
        "ax2.plot(yrs, [max(cc)/10000 for cc in ccs], '-.', color='tab:orange')\n",
        "\n",
        "ax1.set_xlabel('Year', fontsize=16)\n",
        "\n",
        "ax1.set_ylabel('# of CCs with >1 Nodes', fontsize=16, color='tab:blue')\n",
        "ax1.set_yticks(range(2,21,2))\n",
        "ax1.set_yticklabels(range(2,21,2), fontsize=14)\n",
        "\n",
        "ax2.set_ylabel('Size of the Largest CC (in 10,000s)', fontsize=16, color='tab:orange')\n",
        "\n",
        "ax1.tick_params(axis='both', which='major', labelsize=14)\n",
        "ax2.tick_params(axis='both', which='major', labelsize=14)\n",
        "\n",
        "plt.title('Connected Components (CCs)', fontsize=24)\n",
        "\n",
        "plt.tight_layout()\n",
        "plt.savefig(os.path.join(DRIVE_PATH, '20220203', 'cc_num.pdf'), dpi=300, pad_inches=0)\n",
        "plt.show()\n"
      ],
      "metadata": {
        "colab": {
          "base_uri": "https://localhost:8080/",
          "height": 441
        },
        "id": "5CvmQezqJn16",
        "outputId": "cb8d523f-ba57-46c4-8117-23c0571ec27e"
      },
      "execution_count": null,
      "outputs": [
        {
          "output_type": "display_data",
          "data": {
            "text/plain": [
              "<Figure size 720x432 with 2 Axes>"
            ],
            "image/png": "[encoded data removed]"
          },
          "metadata": {
            "needs_background": "light"
          }
        }
      ]
    },
    {
      "cell_type": "code",
      "source": [
        "for i in range(len(yrs)):\n",
        "  tmp = np.array(ccs[i])\n",
        "  print(yrs[i],tmp[tmp >1])"
      ],
      "metadata": {
        "colab": {
          "base_uri": "https://localhost:8080/"
        },
        "id": "dyrJi3XsbmQn",
        "outputId": "049a0474-3164-4e3c-e238-7eb34289a388"
      },
      "execution_count": null,
      "outputs": [
        {
          "output_type": "stream",
          "name": "stdout",
          "text": [
            "1993 [7]\n",
            "1994 [ 7 49  6  3  7  3  9 29  4 22  4 15]\n",
            "1995 [ 13 353   4  38   4   6  13]\n",
            "1996 [632   4   6  13  14   2   7]\n",
            "1997 [828   4   7]\n",
            "1998 [1146    4    6    6    8    5   11]\n",
            "1999 [1467    4    6    8    5    4    4    4    4    6    8    2    3]\n",
            "2000 [2281    4    8    5    4    7    4    4    6    8    2    4    4    2\n",
            "   15    5    4    3]\n",
            "2001 [2733    4    8    5    4    7    4    4    8    2    4    4    2   15\n",
            "    5    4    3    2    3]\n",
            "2002 [3486    4    8    4    7    4    2    4    4   15    5    2    3    7]\n",
            "2003 [4285    4    8    7    4    2    4    2    3    7    6    3]\n",
            "2004 [5353    4    7    4    4    2    3    6    7    2    2]\n",
            "2005 [6435    4    7    4    2    7    2    2    3    4]\n",
            "2006 [7507    4    2    2    2    3    2    2]\n",
            "2007 [9125    4    2    2    2    3    2    2    2    2]\n",
            "2008 [11228     2     2     3     2     2     2]\n",
            "2009 [14036     2     2     2     2     2]\n",
            "2010 [17604     2     2     2     2]\n",
            "2011 [21914     2     2]\n",
            "2012 [27256     2     2]\n",
            "2013 [32512]\n",
            "2014 [37499]\n",
            "2015 [43412]\n",
            "2016 [49920]\n",
            "2017 [55978]\n",
            "2018 [60771]\n",
            "2019 [63472]\n"
          ]
        }
      ]
    },
    {
      "cell_type": "code",
      "source": [
        "yy=2000\n",
        "edges_small = filter_by_year(edges, before=yy)\n",
        "G = nx.from_pandas_edgelist(edges_small, source='node1', target='node2')\n",
        "G.add_nodes_from(range(NUM_OF_VERTICES))\n",
        "cc_2001s = nx.connected_components(G)\n",
        "for c in cc_2001s:\n",
        "  if (len(c) > 1) and (len(c) < 20):\n",
        "    print(c)\n",
        "    print(concepts.loc[c].values.flatten())\n",
        "    print()"
      ],
      "metadata": {
        "id": "IiukZOtzPoa5",
        "colab": {
          "base_uri": "https://localhost:8080/"
        },
        "outputId": "3c62fe80-2d69-4f5f-a2ae-5d772566d9c2"
      },
      "execution_count": null,
      "outputs": [
        {
          "output_type": "stream",
          "name": "stdout",
          "text": [
            "{35541.0, 34233.0, 59605.0, 37151.0}\n",
            "['reasonable time' 'design process' 'natural case' 'natural class']\n",
            "\n",
            "{56546.0, 44006.0, 34221.0, 34356.0, 45781.0, 38230.0, 39833.0, 50751.0}\n",
            "['multiscale transform' 'wavelet transforms' 'central idea'\n",
            " 'wavelet transform' 'shift invariant' 'filter bank' 'linear filter'\n",
            " 'shift invariance']\n",
            "\n",
            "{33476.0, 34052.0, 53968.0, 38227.0, 55737.0}\n",
            "['general theory' 'image transformation' 'abstract form'\n",
            " 'normalization method' 'image normalization']\n",
            "\n",
            "{33712.0, 33601.0, 32453.0, 43031.0}\n",
            "['information processing' 'function space' 'metric space' 'natural metric']\n",
            "\n",
            "{51943.0, 55758.0, 34991.0, 32149.0, 37462.0, 59996.0, 55743.0}\n",
            "['brightness change' 'similarity transformation' 'template matching'\n",
            " 'local feature' 'invariant representation' 'planar curve'\n",
            " 'differential invariant']\n",
            "\n",
            "{43032.0, 50456.0, 49642.0, 32191.0}\n",
            "['complex phenomenon' 'knowledge structure' 'edge structure' 'ai system']\n",
            "\n",
            "{34761.0, 59642.0, 55741.0, 31927.0}\n",
            "['statistical estimation' 'em framework' 'automatic induction'\n",
            " 'learned representation']\n",
            "\n",
            "{56589.0, 56590.0, 33651.0, 34293.0, 19062.0, 19063.0}\n",
            "['right eye' 'left eye' 'minimization problem' 'visual cortex'\n",
            " 'mammalian primary visual cortex' 'mammalian visual cortex']\n",
            "\n",
            "{62017.0, 34466.0, 35140.0, 5477.0, 34629.0, 43812.0, 40585.0, 37365.0}\n",
            "['symbol grounding' 'symbolic representation' 'higher order'\n",
            " 'symbol grounding problem' 'candidate solution' 'semantic interpretation'\n",
            " 'invariant feature' 'feature detector']\n",
            "\n",
            "{33384.0, 41404.0}\n",
            "['several type' 'several level']\n",
            "\n",
            "{43817.0, 44818.0, 35652.0, 40935.0}\n",
            "['linear nature' 'computer code' 'parallel algorithm' 'code generation']\n",
            "\n",
            "{49240.0, 59668.0, 37246.0, 35551.0}\n",
            "['document summarization' 'topic detection' 'cluster centroid'\n",
            " 'tracking system']\n",
            "\n",
            "{49099.0, 40727.0}\n",
            "['defined directly' 'inference mechanism']\n",
            "\n",
            "{34464.0, 58817.0, 59682.0, 37316.0, 50536.0, 39882.0, 52300.0, 53933.0, 38686.0, 54387.0, 34292.0, 45461.0, 33879.0, 48606.0, 36575.0}\n",
            "['step forward' 'time variant' 'identified model' 'nonlinear mapping'\n",
            " 'filtering method' 'linear map' 'adaptation method' 'method applied'\n",
            " 'linear mapping' 'nonlinear map' 'output variable' 'system output'\n",
            " 'fuzzy set' 'identification algorithm' 'relational model']\n",
            "\n",
            "{35232.0, 55776.0, 34438.0, 36910.0, 48607.0}\n",
            "['formal language' 'induction motor' 'fault detection' 'immune system'\n",
            " 'particular characteristic']\n",
            "\n",
            "{59684.0, 32733.0, 6526.0, 40599.0}\n",
            "['depend strongly' 'speech signal' 'additive white noise' 'white noise']\n",
            "\n",
            "{36576.0, 50480.0, 53387.0}\n",
            "['structural model' 'actual cause' 'structural equation']\n",
            "\n"
          ]
        }
      ]
    },
    {
      "cell_type": "code",
      "source": [
        "yy=2003\n",
        "edges_small = filter_by_year(edges, before=yy)\n",
        "G = nx.from_pandas_edgelist(edges_small, source='node1', target='node2')\n",
        "G.add_nodes_from(range(NUM_OF_VERTICES))\n",
        "cc_2001s = nx.connected_components(G)\n",
        "for c in cc_2001s:\n",
        "  if (len(c) > 1) and (len(c) < 20):\n",
        "    print(c)\n",
        "    print(concepts.loc[c].values.flatten())\n",
        "    print()"
      ],
      "metadata": {
        "colab": {
          "base_uri": "https://localhost:8080/"
        },
        "id": "rtu65M3FpbSw",
        "outputId": "c111f9f6-4ba5-41cb-c1a2-d80578deba4a"
      },
      "execution_count": null,
      "outputs": [
        {
          "output_type": "stream",
          "name": "stdout",
          "text": [
            "{35541.0, 34233.0, 59605.0, 37151.0}\n",
            "['reasonable time' 'design process' 'natural case' 'natural class']\n",
            "\n",
            "{56546.0, 44006.0, 34221.0, 34356.0, 45781.0, 38230.0, 39833.0, 50751.0}\n",
            "['multiscale transform' 'wavelet transforms' 'central idea'\n",
            " 'wavelet transform' 'shift invariant' 'filter bank' 'linear filter'\n",
            " 'shift invariance']\n",
            "\n",
            "{51943.0, 55758.0, 34991.0, 32149.0, 37462.0, 59996.0, 55743.0}\n",
            "['brightness change' 'similarity transformation' 'template matching'\n",
            " 'local feature' 'invariant representation' 'planar curve'\n",
            " 'differential invariant']\n",
            "\n",
            "{34761.0, 59642.0, 55741.0, 31927.0}\n",
            "['statistical estimation' 'em framework' 'automatic induction'\n",
            " 'learned representation']\n",
            "\n",
            "{33384.0, 41404.0}\n",
            "['several type' 'several level']\n",
            "\n",
            "{43817.0, 44818.0, 35652.0, 40935.0}\n",
            "['linear nature' 'computer code' 'parallel algorithm' 'code generation']\n",
            "\n",
            "{52848.0, 63807.0}\n",
            "['representation enables' 'performance monitoring']\n",
            "\n",
            "{34384.0, 50507.0, 59727.0}\n",
            "['computational effort' 'usual assumption' 'consider approach']\n",
            "\n",
            "{35360.0, 34694.0, 34989.0, 34224.0, 32892.0, 32406.0, 32668.0}\n",
            "['information source' 'information geometry' 'positive definite'\n",
            " 'model fitting' 'parametric model' 'em algorithm' 'kernel matrix']\n",
            "\n",
            "{32710.0, 45839.0, 34225.0, 52886.0, 55486.0, 53022.0}\n",
            "['data generated' 'data handling' 'four type' 'average rate'\n",
            " 'hardware configuration' 'storage system']\n",
            "\n",
            "{32074.0, 43058.0, 39791.0}\n",
            "['image recognition' 'security problem' 'iris image']\n",
            "\n"
          ]
        }
      ]
    },
    {
      "cell_type": "code",
      "source": [
        "yy=2006\n",
        "edges_small = filter_by_year(edges, before=yy)\n",
        "G = nx.from_pandas_edgelist(edges_small, source='node1', target='node2')\n",
        "G.add_nodes_from(range(NUM_OF_VERTICES))\n",
        "cc_2001s = nx.connected_components(G)\n",
        "for c in cc_2001s:\n",
        "  if (len(c) > 1) and (len(c) < 20):\n",
        "    print(c)\n",
        "    print(concepts.loc[c].values.flatten())\n",
        "    print()"
      ],
      "metadata": {
        "colab": {
          "base_uri": "https://localhost:8080/"
        },
        "id": "2IlnIHJ1rO0i",
        "outputId": "c79efe73-ccf7-409a-d4e8-dc0579bce7cc"
      },
      "execution_count": null,
      "outputs": [
        {
          "output_type": "stream",
          "name": "stdout",
          "text": [
            "{43817.0, 44818.0, 35652.0, 40935.0}\n",
            "['linear nature' 'computer code' 'parallel algorithm' 'code generation']\n",
            "\n",
            "{52848.0, 63807.0}\n",
            "['representation enables' 'performance monitoring']\n",
            "\n",
            "{7969.0, 55826.0}\n",
            "['chinese room argument' 'system could']\n",
            "\n",
            "{38458.0, 59794.0}\n",
            "['shape descriptor' 'open space']\n",
            "\n",
            "{41225.0, 52974.0, 13334.0}\n",
            "['positive semidefinite' 'generating function'\n",
            " 'positive semidefinite kernel']\n",
            "\n",
            "{46306.0, 43095.0}\n",
            "['application context' 'evaluation procedure']\n",
            "\n",
            "{48721.0, 50618.0}\n",
            "['formal logic' 'individual parameter']\n",
            "\n"
          ]
        }
      ]
    },
    {
      "cell_type": "markdown",
      "source": [
        "## Other useful functions"
      ],
      "metadata": {
        "id": "fdx81LA_mXRe"
      }
    },
    {
      "cell_type": "code",
      "source": [
        "kg_small = filter_by_year(edges, before=2005)"
      ],
      "metadata": {
        "id": "ZcEEw9rnGR0D"
      },
      "execution_count": null,
      "outputs": []
    },
    {
      "cell_type": "code",
      "source": [
        "#topic = 'knowledge graph'\n",
        "#topic = 'crime'\n",
        "topic = ['multiscale transform', 'wavelet transforms', 'central idea',\n",
        " 'wavelet transform', 'shift invariant', 'filter bank', 'linear filter',\n",
        " 'shift invariance']\n",
        "if type(topic)==list:\n",
        "  topic = '|'.join(topic)\n",
        "kg = concepts[concepts['concept'].str.contains(topic)]\n",
        "print(len(kg), 'nodes about', topic)\n",
        "kg"
      ],
      "metadata": {
        "colab": {
          "base_uri": "https://localhost:8080/",
          "height": 966
        },
        "id": "34y2mapb21Pa",
        "outputId": "817601f7-2f78-495d-9d41-abd438dc5eba"
      },
      "execution_count": null,
      "outputs": [
        {
          "output_type": "stream",
          "name": "stdout",
          "text": [
            "28 nodes about multiscale transform|wavelet transforms|central idea|wavelet transform|shift invariant|filter bank|linear filter|shift invariance\n"
          ]
        },
        {
          "output_type": "execute_result",
          "data": {
            "text/plain": [
              "                                   concept\n",
              "801             discrete wavelet transform\n",
              "4835                     non linear filter\n",
              "5579           discrete wavelet transforms\n",
              "5933          continuous wavelet transform\n",
              "6612   dual tree complex wavelet transform\n",
              "8112                haar wavelet transform\n",
              "10159                    gabor filter bank\n",
              "10838               shift invariant kernel\n",
              "13766         gabor wavelet transformation\n",
              "14432            inverse wavelet transform\n",
              "15194         stationary wavelet transform\n",
              "15264        undecimated wavelet transform\n",
              "15353     spectral graph wavelet transform\n",
              "16139           shift invariant dictionary\n",
              "22701                  learned filter bank\n",
              "23102          nonlinear filtering problem\n",
              "27072            shift invariant structure\n",
              "34221                         central idea\n",
              "34356                    wavelet transform\n",
              "38230                          filter bank\n",
              "39833                        linear filter\n",
              "44006                   wavelet transforms\n",
              "45781                      shift invariant\n",
              "50751                     shift invariance\n",
              "53255               wavelet transformation\n",
              "56345                  nonlinear filtering\n",
              "56546                 multiscale transform\n",
              "62689                     nonlinear filter"
            ],
            "text/html": [
              "\n",
              "  <div id=\"df-6ec3a063-5a2a-4fa8-b8ce-af2b7399565b\">\n",
              "    <div class=\"colab-df-container\">\n",
              "      <div>\n",
              "<style scoped>\n",
              "    .dataframe tbody tr th:only-of-type {\n",
              "        vertical-align: middle;\n",
              "    }\n",
              "\n",
              "    .dataframe tbody tr th {\n",
              "        vertical-align: top;\n",
              "    }\n",
              "\n",
              "    .dataframe thead th {\n",
              "        text-align: right;\n",
              "    }\n",
              "</style>\n",
              "<table border=\"1\" class=\"dataframe\">\n",
              "  <thead>\n",
              "    <tr style=\"text-align: right;\">\n",
              "      <th></th>\n",
              "      <th>concept</th>\n",
              "    </tr>\n",
              "  </thead>\n",
              "  <tbody>\n",
              "    <tr>\n",
              "      <th>801</th>\n",
              "      <td>discrete wavelet transform</td>\n",
              "    </tr>\n",
              "    <tr>\n",
              "      <th>4835</th>\n",
              "      <td>non linear filter</td>\n",
              "    </tr>\n",
              "    <tr>\n",
              "      <th>5579</th>\n",
              "      <td>discrete wavelet transforms</td>\n",
              "    </tr>\n",
              "    <tr>\n",
              "      <th>5933</th>\n",
              "      <td>continuous wavelet transform</td>\n",
              "    </tr>\n",
              "    <tr>\n",
              "      <th>6612</th>\n",
              "      <td>dual tree complex wavelet transform</td>\n",
              "    </tr>\n",
              "    <tr>\n",
              "      <th>8112</th>\n",
              "      <td>haar wavelet transform</td>\n",
              "    </tr>\n",
              "    <tr>\n",
              "      <th>10159</th>\n",
              "      <td>gabor filter bank</td>\n",
              "    </tr>\n",
              "    <tr>\n",
              "      <th>10838</th>\n",
              "      <td>shift invariant kernel</td>\n",
              "    </tr>\n",
              "    <tr>\n",
              "      <th>13766</th>\n",
              "      <td>gabor wavelet transformation</td>\n",
              "    </tr>\n",
              "    <tr>\n",
              "      <th>14432</th>\n",
              "      <td>inverse wavelet transform</td>\n",
              "    </tr>\n",
              "    <tr>\n",
              "      <th>15194</th>\n",
              "      <td>stationary wavelet transform</td>\n",
              "    </tr>\n",
              "    <tr>\n",
              "      <th>15264</th>\n",
              "      <td>undecimated wavelet transform</td>\n",
              "    </tr>\n",
              "    <tr>\n",
              "      <th>15353</th>\n",
              "      <td>spectral graph wavelet transform</td>\n",
              "    </tr>\n",
              "    <tr>\n",
              "      <th>16139</th>\n",
              "      <td>shift invariant dictionary</td>\n",
              "    </tr>\n",
              "    <tr>\n",
              "      <th>22701</th>\n",
              "      <td>learned filter bank</td>\n",
              "    </tr>\n",
              "    <tr>\n",
              "      <th>23102</th>\n",
              "      <td>nonlinear filtering problem</td>\n",
              "    </tr>\n",
              "    <tr>\n",
              "      <th>27072</th>\n",
              "      <td>shift invariant structure</td>\n",
              "    </tr>\n",
              "    <tr>\n",
              "      <th>34221</th>\n",
              "      <td>central idea</td>\n",
              "    </tr>\n",
              "    <tr>\n",
              "      <th>34356</th>\n",
              "      <td>wavelet transform</td>\n",
              "    </tr>\n",
              "    <tr>\n",
              "      <th>38230</th>\n",
              "      <td>filter bank</td>\n",
              "    </tr>\n",
              "    <tr>\n",
              "      <th>39833</th>\n",
              "      <td>linear filter</td>\n",
              "    </tr>\n",
              "    <tr>\n",
              "      <th>44006</th>\n",
              "      <td>wavelet transforms</td>\n",
              "    </tr>\n",
              "    <tr>\n",
              "      <th>45781</th>\n",
              "      <td>shift invariant</td>\n",
              "    </tr>\n",
              "    <tr>\n",
              "      <th>50751</th>\n",
              "      <td>shift invariance</td>\n",
              "    </tr>\n",
              "    <tr>\n",
              "      <th>53255</th>\n",
              "      <td>wavelet transformation</td>\n",
              "    </tr>\n",
              "    <tr>\n",
              "      <th>56345</th>\n",
              "      <td>nonlinear filtering</td>\n",
              "    </tr>\n",
              "    <tr>\n",
              "      <th>56546</th>\n",
              "      <td>multiscale transform</td>\n",
              "    </tr>\n",
              "    <tr>\n",
              "      <th>62689</th>\n",
              "      <td>nonlinear filter</td>\n",
              "    </tr>\n",
              "  </tbody>\n",
              "</table>\n",
              "</div>\n",
              "      <button class=\"colab-df-convert\" onclick=\"convertToInteractive('df-6ec3a063-5a2a-4fa8-b8ce-af2b7399565b')\"\n",
              "              title=\"Convert this dataframe to an interactive table.\"\n",
              "              style=\"display:none;\">\n",
              "        \n",
              "  <svg xmlns=\"http://www.w3.org/2000/svg\" height=\"24px\"viewBox=\"0 0 24 24\"\n",
              "       width=\"24px\">\n",
              "    <path d=\"M0 0h24v24H0V0z\" fill=\"none\"/>\n",
              "    <path d=\"M18.56 5.44l.94 2.06.94-2.06 2.06-.94-2.06-.94-.94-2.06-.94 2.06-2.06.94zm-11 1L8.5 8.5l.94-2.06 2.06-.94-2.06-.94L8.5 2.5l-.94 2.06-2.06.94zm10 10l.94 2.06.94-2.06 2.06-.94-2.06-.94-.94-2.06-.94 2.06-2.06.94z\"/><path d=\"M17.41 7.96l-1.37-1.37c-.4-.4-.92-.59-1.43-.59-.52 0-1.04.2-1.43.59L10.3 9.45l-7.72 7.72c-.78.78-.78 2.05 0 2.83L4 21.41c.39.39.9.59 1.41.59.51 0 1.02-.2 1.41-.59l7.78-7.78 2.81-2.81c.8-.78.8-2.07 0-2.86zM5.41 20L4 18.59l7.72-7.72 1.47 1.35L5.41 20z\"/>\n",
              "  </svg>\n",
              "      </button>\n",
              "      \n",
              "  <style>\n",
              "    .colab-df-container {\n",
              "      display:flex;\n",
              "      flex-wrap:wrap;\n",
              "      gap: 12px;\n",
              "    }\n",
              "\n",
              "    .colab-df-convert {\n",
              "      background-color: #E8F0FE;\n",
              "      border: none;\n",
              "      border-radius: 50%;\n",
              "      cursor: pointer;\n",
              "      display: none;\n",
              "      fill: #1967D2;\n",
              "      height: 32px;\n",
              "      padding: 0 0 0 0;\n",
              "      width: 32px;\n",
              "    }\n",
              "\n",
              "    .colab-df-convert:hover {\n",
              "      background-color: #E2EBFA;\n",
              "      box-shadow: 0px 1px 2px rgba(60, 64, 67, 0.3), 0px 1px 3px 1px rgba(60, 64, 67, 0.15);\n",
              "      fill: #174EA6;\n",
              "    }\n",
              "\n",
              "    [theme=dark] .colab-df-convert {\n",
              "      background-color: #3B4455;\n",
              "      fill: #D2E3FC;\n",
              "    }\n",
              "\n",
              "    [theme=dark] .colab-df-convert:hover {\n",
              "      background-color: #434B5C;\n",
              "      box-shadow: 0px 1px 3px 1px rgba(0, 0, 0, 0.15);\n",
              "      filter: drop-shadow(0px 1px 2px rgba(0, 0, 0, 0.3));\n",
              "      fill: #FFFFFF;\n",
              "    }\n",
              "  </style>\n",
              "\n",
              "      <script>\n",
              "        const buttonEl =\n",
              "          document.querySelector('#df-6ec3a063-5a2a-4fa8-b8ce-af2b7399565b button.colab-df-convert');\n",
              "        buttonEl.style.display =\n",
              "          google.colab.kernel.accessAllowed ? 'block' : 'none';\n",
              "\n",
              "        async function convertToInteractive(key) {\n",
              "          const element = document.querySelector('#df-6ec3a063-5a2a-4fa8-b8ce-af2b7399565b');\n",
              "          const dataTable =\n",
              "            await google.colab.kernel.invokeFunction('convertToInteractive',\n",
              "                                                     [key], {});\n",
              "          if (!dataTable) return;\n",
              "\n",
              "          const docLinkHtml = 'Like what you see? Visit the ' +\n",
              "            '<a target=\"_blank\" href=https://colab.research.google.com/notebooks/data_table.ipynb>data table notebook</a>'\n",
              "            + ' to learn more about interactive tables.';\n",
              "          element.innerHTML = '';\n",
              "          dataTable['output_type'] = 'display_data';\n",
              "          await google.colab.output.renderOutput(dataTable, element);\n",
              "          const docLink = document.createElement('div');\n",
              "          docLink.innerHTML = docLinkHtml;\n",
              "          element.appendChild(docLink);\n",
              "        }\n",
              "      </script>\n",
              "    </div>\n",
              "  </div>\n",
              "  "
            ]
          },
          "metadata": {},
          "execution_count": 39
        }
      ]
    },
    {
      "cell_type": "code",
      "source": [
        "#nodes = [31910]\n",
        "#nodes = kg.index\n",
        "nodes = [51943, 55758, 34991, 32149, 37462, 59996, 55743]\n",
        "#nodes = [43968, 31844, 35558, 36845, 32881, 58385, 39323]\n",
        "edges_small = filter_by_year(edges, before=2006)\n",
        "\n",
        "kg_edges = edges_small[edges_small['node1'].isin(nodes) | edges_small['node2'].isin(nodes)]\n",
        "map_concepts(kg_edges)"
      ],
      "metadata": {
        "colab": {
          "base_uri": "https://localhost:8080/",
          "height": 851
        },
        "id": "HetTgHWY3YaN",
        "outputId": "c562227f-696d-4737-f36d-4b5d6a8169ab"
      },
      "execution_count": null,
      "outputs": [
        {
          "output_type": "stream",
          "name": "stderr",
          "text": [
            "/usr/local/lib/python3.7/dist-packages/ipykernel_launcher.py:18: SettingWithCopyWarning: \n",
            "A value is trying to be set on a copy of a slice from a DataFrame.\n",
            "Try using .loc[row_indexer,col_indexer] = value instead\n",
            "\n",
            "See the caveats in the documentation: https://pandas.pydata.org/pandas-docs/stable/user_guide/indexing.html#returning-a-view-versus-a-copy\n",
            "/usr/local/lib/python3.7/dist-packages/ipykernel_launcher.py:19: SettingWithCopyWarning: \n",
            "A value is trying to be set on a copy of a slice from a DataFrame.\n",
            "Try using .loc[row_indexer,col_indexer] = value instead\n",
            "\n",
            "See the caveats in the documentation: https://pandas.pydata.org/pandas-docs/stable/user_guide/indexing.html#returning-a-view-versus-a-copy\n"
          ]
        },
        {
          "output_type": "execute_result",
          "data": {
            "text/plain": [
              "         node1    node2  timestamp                  concept1  \\\n",
              "10454  55743.0  59996.0     3363.0    differential invariant   \n",
              "12767  32149.0  51943.0     3524.0             local feature   \n",
              "12768  32149.0  55743.0     3524.0             local feature   \n",
              "12769  51943.0  55743.0     3524.0         brightness change   \n",
              "16804  32149.0  34991.0     3737.0             local feature   \n",
              "16805  32149.0  37462.0     3737.0             local feature   \n",
              "16806  32149.0  55743.0     3737.0             local feature   \n",
              "16807  32149.0  55758.0     3737.0             local feature   \n",
              "16808  34991.0  37462.0     3737.0         template matching   \n",
              "16809  34991.0  55743.0     3737.0         template matching   \n",
              "16810  34991.0  55758.0     3737.0         template matching   \n",
              "16811  37462.0  55743.0     3737.0  invariant representation   \n",
              "16812  37462.0  55758.0     3737.0  invariant representation   \n",
              "16813  55743.0  55758.0     3737.0    differential invariant   \n",
              "90921     11.0  32149.0     5882.0    support vector machine   \n",
              "90926  32149.0  33360.0     5882.0             local feature   \n",
              "90927  32149.0  33683.0     5882.0             local feature   \n",
              "90928  32149.0  34146.0     5882.0             local feature   \n",
              "90929  32149.0  50593.0     5882.0             local feature   \n",
              "\n",
              "                        concept2  \n",
              "10454               planar curve  \n",
              "12767          brightness change  \n",
              "12768     differential invariant  \n",
              "12769     differential invariant  \n",
              "16804          template matching  \n",
              "16805   invariant representation  \n",
              "16806     differential invariant  \n",
              "16807  similarity transformation  \n",
              "16808   invariant representation  \n",
              "16809     differential invariant  \n",
              "16810  similarity transformation  \n",
              "16811     differential invariant  \n",
              "16812  similarity transformation  \n",
              "16813  similarity transformation  \n",
              "90921              local feature  \n",
              "90926               real dataset  \n",
              "90927             support vector  \n",
              "90928                   main aim  \n",
              "90929           local classifier  "
            ],
            "text/html": [
              "\n",
              "  <div id=\"df-fcce1a81-7da8-4391-9dfa-4d9a1db05cb4\">\n",
              "    <div class=\"colab-df-container\">\n",
              "      <div>\n",
              "<style scoped>\n",
              "    .dataframe tbody tr th:only-of-type {\n",
              "        vertical-align: middle;\n",
              "    }\n",
              "\n",
              "    .dataframe tbody tr th {\n",
              "        vertical-align: top;\n",
              "    }\n",
              "\n",
              "    .dataframe thead th {\n",
              "        text-align: right;\n",
              "    }\n",
              "</style>\n",
              "<table border=\"1\" class=\"dataframe\">\n",
              "  <thead>\n",
              "    <tr style=\"text-align: right;\">\n",
              "      <th></th>\n",
              "      <th>node1</th>\n",
              "      <th>node2</th>\n",
              "      <th>timestamp</th>\n",
              "      <th>concept1</th>\n",
              "      <th>concept2</th>\n",
              "    </tr>\n",
              "  </thead>\n",
              "  <tbody>\n",
              "    <tr>\n",
              "      <th>10454</th>\n",
              "      <td>55743.0</td>\n",
              "      <td>59996.0</td>\n",
              "      <td>3363.0</td>\n",
              "      <td>differential invariant</td>\n",
              "      <td>planar curve</td>\n",
              "    </tr>\n",
              "    <tr>\n",
              "      <th>12767</th>\n",
              "      <td>32149.0</td>\n",
              "      <td>51943.0</td>\n",
              "      <td>3524.0</td>\n",
              "      <td>local feature</td>\n",
              "      <td>brightness change</td>\n",
              "    </tr>\n",
              "    <tr>\n",
              "      <th>12768</th>\n",
              "      <td>32149.0</td>\n",
              "      <td>55743.0</td>\n",
              "      <td>3524.0</td>\n",
              "      <td>local feature</td>\n",
              "      <td>differential invariant</td>\n",
              "    </tr>\n",
              "    <tr>\n",
              "      <th>12769</th>\n",
              "      <td>51943.0</td>\n",
              "      <td>55743.0</td>\n",
              "      <td>3524.0</td>\n",
              "      <td>brightness change</td>\n",
              "      <td>differential invariant</td>\n",
              "    </tr>\n",
              "    <tr>\n",
              "      <th>16804</th>\n",
              "      <td>32149.0</td>\n",
              "      <td>34991.0</td>\n",
              "      <td>3737.0</td>\n",
              "      <td>local feature</td>\n",
              "      <td>template matching</td>\n",
              "    </tr>\n",
              "    <tr>\n",
              "      <th>16805</th>\n",
              "      <td>32149.0</td>\n",
              "      <td>37462.0</td>\n",
              "      <td>3737.0</td>\n",
              "      <td>local feature</td>\n",
              "      <td>invariant representation</td>\n",
              "    </tr>\n",
              "    <tr>\n",
              "      <th>16806</th>\n",
              "      <td>32149.0</td>\n",
              "      <td>55743.0</td>\n",
              "      <td>3737.0</td>\n",
              "      <td>local feature</td>\n",
              "      <td>differential invariant</td>\n",
              "    </tr>\n",
              "    <tr>\n",
              "      <th>16807</th>\n",
              "      <td>32149.0</td>\n",
              "      <td>55758.0</td>\n",
              "      <td>3737.0</td>\n",
              "      <td>local feature</td>\n",
              "      <td>similarity transformation</td>\n",
              "    </tr>\n",
              "    <tr>\n",
              "      <th>16808</th>\n",
              "      <td>34991.0</td>\n",
              "      <td>37462.0</td>\n",
              "      <td>3737.0</td>\n",
              "      <td>template matching</td>\n",
              "      <td>invariant representation</td>\n",
              "    </tr>\n",
              "    <tr>\n",
              "      <th>16809</th>\n",
              "      <td>34991.0</td>\n",
              "      <td>55743.0</td>\n",
              "      <td>3737.0</td>\n",
              "      <td>template matching</td>\n",
              "      <td>differential invariant</td>\n",
              "    </tr>\n",
              "    <tr>\n",
              "      <th>16810</th>\n",
              "      <td>34991.0</td>\n",
              "      <td>55758.0</td>\n",
              "      <td>3737.0</td>\n",
              "      <td>template matching</td>\n",
              "      <td>similarity transformation</td>\n",
              "    </tr>\n",
              "    <tr>\n",
              "      <th>16811</th>\n",
              "      <td>37462.0</td>\n",
              "      <td>55743.0</td>\n",
              "      <td>3737.0</td>\n",
              "      <td>invariant representation</td>\n",
              "      <td>differential invariant</td>\n",
              "    </tr>\n",
              "    <tr>\n",
              "      <th>16812</th>\n",
              "      <td>37462.0</td>\n",
              "      <td>55758.0</td>\n",
              "      <td>3737.0</td>\n",
              "      <td>invariant representation</td>\n",
              "      <td>similarity transformation</td>\n",
              "    </tr>\n",
              "    <tr>\n",
              "      <th>16813</th>\n",
              "      <td>55743.0</td>\n",
              "      <td>55758.0</td>\n",
              "      <td>3737.0</td>\n",
              "      <td>differential invariant</td>\n",
              "      <td>similarity transformation</td>\n",
              "    </tr>\n",
              "    <tr>\n",
              "      <th>90921</th>\n",
              "      <td>11.0</td>\n",
              "      <td>32149.0</td>\n",
              "      <td>5882.0</td>\n",
              "      <td>support vector machine</td>\n",
              "      <td>local feature</td>\n",
              "    </tr>\n",
              "    <tr>\n",
              "      <th>90926</th>\n",
              "      <td>32149.0</td>\n",
              "      <td>33360.0</td>\n",
              "      <td>5882.0</td>\n",
              "      <td>local feature</td>\n",
              "      <td>real dataset</td>\n",
              "    </tr>\n",
              "    <tr>\n",
              "      <th>90927</th>\n",
              "      <td>32149.0</td>\n",
              "      <td>33683.0</td>\n",
              "      <td>5882.0</td>\n",
              "      <td>local feature</td>\n",
              "      <td>support vector</td>\n",
              "    </tr>\n",
              "    <tr>\n",
              "      <th>90928</th>\n",
              "      <td>32149.0</td>\n",
              "      <td>34146.0</td>\n",
              "      <td>5882.0</td>\n",
              "      <td>local feature</td>\n",
              "      <td>main aim</td>\n",
              "    </tr>\n",
              "    <tr>\n",
              "      <th>90929</th>\n",
              "      <td>32149.0</td>\n",
              "      <td>50593.0</td>\n",
              "      <td>5882.0</td>\n",
              "      <td>local feature</td>\n",
              "      <td>local classifier</td>\n",
              "    </tr>\n",
              "  </tbody>\n",
              "</table>\n",
              "</div>\n",
              "      <button class=\"colab-df-convert\" onclick=\"convertToInteractive('df-fcce1a81-7da8-4391-9dfa-4d9a1db05cb4')\"\n",
              "              title=\"Convert this dataframe to an interactive table.\"\n",
              "              style=\"display:none;\">\n",
              "        \n",
              "  <svg xmlns=\"http://www.w3.org/2000/svg\" height=\"24px\"viewBox=\"0 0 24 24\"\n",
              "       width=\"24px\">\n",
              "    <path d=\"M0 0h24v24H0V0z\" fill=\"none\"/>\n",
              "    <path d=\"M18.56 5.44l.94 2.06.94-2.06 2.06-.94-2.06-.94-.94-2.06-.94 2.06-2.06.94zm-11 1L8.5 8.5l.94-2.06 2.06-.94-2.06-.94L8.5 2.5l-.94 2.06-2.06.94zm10 10l.94 2.06.94-2.06 2.06-.94-2.06-.94-.94-2.06-.94 2.06-2.06.94z\"/><path d=\"M17.41 7.96l-1.37-1.37c-.4-.4-.92-.59-1.43-.59-.52 0-1.04.2-1.43.59L10.3 9.45l-7.72 7.72c-.78.78-.78 2.05 0 2.83L4 21.41c.39.39.9.59 1.41.59.51 0 1.02-.2 1.41-.59l7.78-7.78 2.81-2.81c.8-.78.8-2.07 0-2.86zM5.41 20L4 18.59l7.72-7.72 1.47 1.35L5.41 20z\"/>\n",
              "  </svg>\n",
              "      </button>\n",
              "      \n",
              "  <style>\n",
              "    .colab-df-container {\n",
              "      display:flex;\n",
              "      flex-wrap:wrap;\n",
              "      gap: 12px;\n",
              "    }\n",
              "\n",
              "    .colab-df-convert {\n",
              "      background-color: #E8F0FE;\n",
              "      border: none;\n",
              "      border-radius: 50%;\n",
              "      cursor: pointer;\n",
              "      display: none;\n",
              "      fill: #1967D2;\n",
              "      height: 32px;\n",
              "      padding: 0 0 0 0;\n",
              "      width: 32px;\n",
              "    }\n",
              "\n",
              "    .colab-df-convert:hover {\n",
              "      background-color: #E2EBFA;\n",
              "      box-shadow: 0px 1px 2px rgba(60, 64, 67, 0.3), 0px 1px 3px 1px rgba(60, 64, 67, 0.15);\n",
              "      fill: #174EA6;\n",
              "    }\n",
              "\n",
              "    [theme=dark] .colab-df-convert {\n",
              "      background-color: #3B4455;\n",
              "      fill: #D2E3FC;\n",
              "    }\n",
              "\n",
              "    [theme=dark] .colab-df-convert:hover {\n",
              "      background-color: #434B5C;\n",
              "      box-shadow: 0px 1px 3px 1px rgba(0, 0, 0, 0.15);\n",
              "      filter: drop-shadow(0px 1px 2px rgba(0, 0, 0, 0.3));\n",
              "      fill: #FFFFFF;\n",
              "    }\n",
              "  </style>\n",
              "\n",
              "      <script>\n",
              "        const buttonEl =\n",
              "          document.querySelector('#df-fcce1a81-7da8-4391-9dfa-4d9a1db05cb4 button.colab-df-convert');\n",
              "        buttonEl.style.display =\n",
              "          google.colab.kernel.accessAllowed ? 'block' : 'none';\n",
              "\n",
              "        async function convertToInteractive(key) {\n",
              "          const element = document.querySelector('#df-fcce1a81-7da8-4391-9dfa-4d9a1db05cb4');\n",
              "          const dataTable =\n",
              "            await google.colab.kernel.invokeFunction('convertToInteractive',\n",
              "                                                     [key], {});\n",
              "          if (!dataTable) return;\n",
              "\n",
              "          const docLinkHtml = 'Like what you see? Visit the ' +\n",
              "            '<a target=\"_blank\" href=https://colab.research.google.com/notebooks/data_table.ipynb>data table notebook</a>'\n",
              "            + ' to learn more about interactive tables.';\n",
              "          element.innerHTML = '';\n",
              "          dataTable['output_type'] = 'display_data';\n",
              "          await google.colab.output.renderOutput(dataTable, element);\n",
              "          const docLink = document.createElement('div');\n",
              "          docLink.innerHTML = docLinkHtml;\n",
              "          element.appendChild(docLink);\n",
              "        }\n",
              "      </script>\n",
              "    </div>\n",
              "  </div>\n",
              "  "
            ]
          },
          "metadata": {},
          "execution_count": 50
        }
      ]
    },
    {
      "cell_type": "code",
      "source": [
        "onehop_nodes = set(list(kg_edges['node1'].unique()) + list(kg_edges['node2'].unique()))\n",
        "print('subgraph with nodes:', nodes)\n",
        "print(len(onehop_nodes), 'nodes')\n",
        "print(len(kg_edges), 'edges')\n",
        "\n",
        "plt.hist(kg_edges['timestamp']/365 + 1990)\n",
        "plt.xlabel('year')\n",
        "plt.ylabel('edges created')\n",
        "plt.show()"
      ],
      "metadata": {
        "colab": {
          "base_uri": "https://localhost:8080/",
          "height": 335
        },
        "id": "g2ZfRXov3d9H",
        "outputId": "2a0bc59b-4948-4d2a-c03a-4c40d6ee0940"
      },
      "execution_count": null,
      "outputs": [
        {
          "output_type": "stream",
          "name": "stdout",
          "text": [
            "subgraph with nodes: [51943, 55758, 34991, 32149, 37462, 59996, 55743]\n",
            "6836 nodes\n",
            "14392 edges\n"
          ]
        },
        {
          "output_type": "display_data",
          "data": {
            "text/plain": [
              "<Figure size 432x288 with 1 Axes>"
            ],
            "image/png": "[encoded data removed]"
          },
          "metadata": {
            "needs_background": "light"
          }
        }
      ]
    },
    {
      "cell_type": "code",
      "source": [
        "kg_small = filter_by_year(kg_edges, before=2016)\n",
        "map_concepts(kg_small)"
      ],
      "metadata": {
        "colab": {
          "base_uri": "https://localhost:8080/",
          "height": 630
        },
        "id": "QNwXO1FiCOOZ",
        "outputId": "45151b0e-d9ea-4a12-cc60-f1fcebc13b90"
      },
      "execution_count": null,
      "outputs": [
        {
          "output_type": "stream",
          "name": "stderr",
          "text": [
            "/usr/local/lib/python3.7/dist-packages/ipykernel_launcher.py:18: SettingWithCopyWarning: \n",
            "A value is trying to be set on a copy of a slice from a DataFrame.\n",
            "Try using .loc[row_indexer,col_indexer] = value instead\n",
            "\n",
            "See the caveats in the documentation: https://pandas.pydata.org/pandas-docs/stable/user_guide/indexing.html#returning-a-view-versus-a-copy\n",
            "/usr/local/lib/python3.7/dist-packages/ipykernel_launcher.py:19: SettingWithCopyWarning: \n",
            "A value is trying to be set on a copy of a slice from a DataFrame.\n",
            "Try using .loc[row_indexer,col_indexer] = value instead\n",
            "\n",
            "See the caveats in the documentation: https://pandas.pydata.org/pandas-docs/stable/user_guide/indexing.html#returning-a-view-versus-a-copy\n"
          ]
        },
        {
          "output_type": "execute_result",
          "data": {
            "text/plain": [
              "           node1    node2  timestamp                      concept1  \\\n",
              "2430764   1893.0  31910.0     9191.0         large knowledge graph   \n",
              "2430783   8186.0  31910.0     9191.0  statistical relational model   \n",
              "2430801   8409.0  31910.0     9191.0          latent feature model   \n",
              "2430818  31762.0  31910.0     9191.0                neural network   \n",
              "2430834  31763.0  31910.0     9191.0              machine learning   \n",
              "...          ...      ...        ...                           ...   \n",
              "4944128  31910.0  43025.0     9844.0               knowledge graph   \n",
              "4944129  31910.0  46343.0     9844.0               knowledge graph   \n",
              "4944130  31910.0  47424.0     9844.0               knowledge graph   \n",
              "4944131  31910.0  52977.0     9844.0               knowledge graph   \n",
              "4944132  31910.0  55097.0     9844.0               knowledge graph   \n",
              "\n",
              "                        concept2  \n",
              "2430764          knowledge graph  \n",
              "2430783          knowledge graph  \n",
              "2430801          knowledge graph  \n",
              "2430818          knowledge graph  \n",
              "2430834          knowledge graph  \n",
              "...                          ...  \n",
              "4944128        acquire knowledge  \n",
              "4944129         vision algorithm  \n",
              "4944130         structured prior  \n",
              "4944131              label class  \n",
              "4944132  classification pipeline  \n",
              "\n",
              "[679 rows x 5 columns]"
            ],
            "text/html": [
              "\n",
              "  <div id=\"df-d78b2d40-646b-4607-9011-9004c86a860f\">\n",
              "    <div class=\"colab-df-container\">\n",
              "      <div>\n",
              "<style scoped>\n",
              "    .dataframe tbody tr th:only-of-type {\n",
              "        vertical-align: middle;\n",
              "    }\n",
              "\n",
              "    .dataframe tbody tr th {\n",
              "        vertical-align: top;\n",
              "    }\n",
              "\n",
              "    .dataframe thead th {\n",
              "        text-align: right;\n",
              "    }\n",
              "</style>\n",
              "<table border=\"1\" class=\"dataframe\">\n",
              "  <thead>\n",
              "    <tr style=\"text-align: right;\">\n",
              "      <th></th>\n",
              "      <th>node1</th>\n",
              "      <th>node2</th>\n",
              "      <th>timestamp</th>\n",
              "      <th>concept1</th>\n",
              "      <th>concept2</th>\n",
              "    </tr>\n",
              "  </thead>\n",
              "  <tbody>\n",
              "    <tr>\n",
              "      <th>2430764</th>\n",
              "      <td>1893.0</td>\n",
              "      <td>31910.0</td>\n",
              "      <td>9191.0</td>\n",
              "      <td>large knowledge graph</td>\n",
              "      <td>knowledge graph</td>\n",
              "    </tr>\n",
              "    <tr>\n",
              "      <th>2430783</th>\n",
              "      <td>8186.0</td>\n",
              "      <td>31910.0</td>\n",
              "      <td>9191.0</td>\n",
              "      <td>statistical relational model</td>\n",
              "      <td>knowledge graph</td>\n",
              "    </tr>\n",
              "    <tr>\n",
              "      <th>2430801</th>\n",
              "      <td>8409.0</td>\n",
              "      <td>31910.0</td>\n",
              "      <td>9191.0</td>\n",
              "      <td>latent feature model</td>\n",
              "      <td>knowledge graph</td>\n",
              "    </tr>\n",
              "    <tr>\n",
              "      <th>2430818</th>\n",
              "      <td>31762.0</td>\n",
              "      <td>31910.0</td>\n",
              "      <td>9191.0</td>\n",
              "      <td>neural network</td>\n",
              "      <td>knowledge graph</td>\n",
              "    </tr>\n",
              "    <tr>\n",
              "      <th>2430834</th>\n",
              "      <td>31763.0</td>\n",
              "      <td>31910.0</td>\n",
              "      <td>9191.0</td>\n",
              "      <td>machine learning</td>\n",
              "      <td>knowledge graph</td>\n",
              "    </tr>\n",
              "    <tr>\n",
              "      <th>...</th>\n",
              "      <td>...</td>\n",
              "      <td>...</td>\n",
              "      <td>...</td>\n",
              "      <td>...</td>\n",
              "      <td>...</td>\n",
              "    </tr>\n",
              "    <tr>\n",
              "      <th>4944128</th>\n",
              "      <td>31910.0</td>\n",
              "      <td>43025.0</td>\n",
              "      <td>9844.0</td>\n",
              "      <td>knowledge graph</td>\n",
              "      <td>acquire knowledge</td>\n",
              "    </tr>\n",
              "    <tr>\n",
              "      <th>4944129</th>\n",
              "      <td>31910.0</td>\n",
              "      <td>46343.0</td>\n",
              "      <td>9844.0</td>\n",
              "      <td>knowledge graph</td>\n",
              "      <td>vision algorithm</td>\n",
              "    </tr>\n",
              "    <tr>\n",
              "      <th>4944130</th>\n",
              "      <td>31910.0</td>\n",
              "      <td>47424.0</td>\n",
              "      <td>9844.0</td>\n",
              "      <td>knowledge graph</td>\n",
              "      <td>structured prior</td>\n",
              "    </tr>\n",
              "    <tr>\n",
              "      <th>4944131</th>\n",
              "      <td>31910.0</td>\n",
              "      <td>52977.0</td>\n",
              "      <td>9844.0</td>\n",
              "      <td>knowledge graph</td>\n",
              "      <td>label class</td>\n",
              "    </tr>\n",
              "    <tr>\n",
              "      <th>4944132</th>\n",
              "      <td>31910.0</td>\n",
              "      <td>55097.0</td>\n",
              "      <td>9844.0</td>\n",
              "      <td>knowledge graph</td>\n",
              "      <td>classification pipeline</td>\n",
              "    </tr>\n",
              "  </tbody>\n",
              "</table>\n",
              "<p>679 rows × 5 columns</p>\n",
              "</div>\n",
              "      <button class=\"colab-df-convert\" onclick=\"convertToInteractive('df-d78b2d40-646b-4607-9011-9004c86a860f')\"\n",
              "              title=\"Convert this dataframe to an interactive table.\"\n",
              "              style=\"display:none;\">\n",
              "        \n",
              "  <svg xmlns=\"http://www.w3.org/2000/svg\" height=\"24px\"viewBox=\"0 0 24 24\"\n",
              "       width=\"24px\">\n",
              "    <path d=\"M0 0h24v24H0V0z\" fill=\"none\"/>\n",
              "    <path d=\"M18.56 5.44l.94 2.06.94-2.06 2.06-.94-2.06-.94-.94-2.06-.94 2.06-2.06.94zm-11 1L8.5 8.5l.94-2.06 2.06-.94-2.06-.94L8.5 2.5l-.94 2.06-2.06.94zm10 10l.94 2.06.94-2.06 2.06-.94-2.06-.94-.94-2.06-.94 2.06-2.06.94z\"/><path d=\"M17.41 7.96l-1.37-1.37c-.4-.4-.92-.59-1.43-.59-.52 0-1.04.2-1.43.59L10.3 9.45l-7.72 7.72c-.78.78-.78 2.05 0 2.83L4 21.41c.39.39.9.59 1.41.59.51 0 1.02-.2 1.41-.59l7.78-7.78 2.81-2.81c.8-.78.8-2.07 0-2.86zM5.41 20L4 18.59l7.72-7.72 1.47 1.35L5.41 20z\"/>\n",
              "  </svg>\n",
              "      </button>\n",
              "      \n",
              "  <style>\n",
              "    .colab-df-container {\n",
              "      display:flex;\n",
              "      flex-wrap:wrap;\n",
              "      gap: 12px;\n",
              "    }\n",
              "\n",
              "    .colab-df-convert {\n",
              "      background-color: #E8F0FE;\n",
              "      border: none;\n",
              "      border-radius: 50%;\n",
              "      cursor: pointer;\n",
              "      display: none;\n",
              "      fill: #1967D2;\n",
              "      height: 32px;\n",
              "      padding: 0 0 0 0;\n",
              "      width: 32px;\n",
              "    }\n",
              "\n",
              "    .colab-df-convert:hover {\n",
              "      background-color: #E2EBFA;\n",
              "      box-shadow: 0px 1px 2px rgba(60, 64, 67, 0.3), 0px 1px 3px 1px rgba(60, 64, 67, 0.15);\n",
              "      fill: #174EA6;\n",
              "    }\n",
              "\n",
              "    [theme=dark] .colab-df-convert {\n",
              "      background-color: #3B4455;\n",
              "      fill: #D2E3FC;\n",
              "    }\n",
              "\n",
              "    [theme=dark] .colab-df-convert:hover {\n",
              "      background-color: #434B5C;\n",
              "      box-shadow: 0px 1px 3px 1px rgba(0, 0, 0, 0.15);\n",
              "      filter: drop-shadow(0px 1px 2px rgba(0, 0, 0, 0.3));\n",
              "      fill: #FFFFFF;\n",
              "    }\n",
              "  </style>\n",
              "\n",
              "      <script>\n",
              "        const buttonEl =\n",
              "          document.querySelector('#df-d78b2d40-646b-4607-9011-9004c86a860f button.colab-df-convert');\n",
              "        buttonEl.style.display =\n",
              "          google.colab.kernel.accessAllowed ? 'block' : 'none';\n",
              "\n",
              "        async function convertToInteractive(key) {\n",
              "          const element = document.querySelector('#df-d78b2d40-646b-4607-9011-9004c86a860f');\n",
              "          const dataTable =\n",
              "            await google.colab.kernel.invokeFunction('convertToInteractive',\n",
              "                                                     [key], {});\n",
              "          if (!dataTable) return;\n",
              "\n",
              "          const docLinkHtml = 'Like what you see? Visit the ' +\n",
              "            '<a target=\"_blank\" href=https://colab.research.google.com/notebooks/data_table.ipynb>data table notebook</a>'\n",
              "            + ' to learn more about interactive tables.';\n",
              "          element.innerHTML = '';\n",
              "          dataTable['output_type'] = 'display_data';\n",
              "          await google.colab.output.renderOutput(dataTable, element);\n",
              "          const docLink = document.createElement('div');\n",
              "          docLink.innerHTML = docLinkHtml;\n",
              "          element.appendChild(docLink);\n",
              "        }\n",
              "      </script>\n",
              "    </div>\n",
              "  </div>\n",
              "  "
            ]
          },
          "metadata": {},
          "execution_count": 21
        }
      ]
    },
    {
      "cell_type": "code",
      "source": [
        "kg_small = filter_by_year(kg_edges, after=2019)\n",
        "map_concepts(kg_small)"
      ],
      "metadata": {
        "colab": {
          "base_uri": "https://localhost:8080/",
          "height": 630
        },
        "id": "04oMtz8c7_rF",
        "outputId": "40700a45-f811-4574-d5f8-7141e48329db"
      },
      "execution_count": null,
      "outputs": [
        {
          "output_type": "stream",
          "name": "stderr",
          "text": [
            "/usr/local/lib/python3.7/dist-packages/ipykernel_launcher.py:18: SettingWithCopyWarning: \n",
            "A value is trying to be set on a copy of a slice from a DataFrame.\n",
            "Try using .loc[row_indexer,col_indexer] = value instead\n",
            "\n",
            "See the caveats in the documentation: https://pandas.pydata.org/pandas-docs/stable/user_guide/indexing.html#returning-a-view-versus-a-copy\n",
            "/usr/local/lib/python3.7/dist-packages/ipykernel_launcher.py:19: SettingWithCopyWarning: \n",
            "A value is trying to be set on a copy of a slice from a DataFrame.\n",
            "Try using .loc[row_indexer,col_indexer] = value instead\n",
            "\n",
            "See the caveats in the documentation: https://pandas.pydata.org/pandas-docs/stable/user_guide/indexing.html#returning-a-view-versus-a-copy\n"
          ]
        },
        {
          "output_type": "execute_result",
          "data": {
            "text/plain": [
              "            node1    node2  timestamp                          concept1  \\\n",
              "12011751      1.0  31910.0    10611.0      convolutional neural network   \n",
              "12011771     73.0  31910.0    10611.0                zero shot learning   \n",
              "12011790    788.0  31910.0    10611.0          transfer learning method   \n",
              "12011808   7557.0  31910.0    10611.0  human understandable explanation   \n",
              "12011825  31762.0  31910.0    10611.0                    neural network   \n",
              "...           ...      ...        ...                               ...   \n",
              "17892256  31910.0  42185.0    10954.0                   knowledge graph   \n",
              "17892257  31910.0  42717.0    10954.0                   knowledge graph   \n",
              "17892258  31910.0  47635.0    10954.0                   knowledge graph   \n",
              "17892259  31910.0  51187.0    10954.0                   knowledge graph   \n",
              "17892260  31910.0  63351.0    10954.0                   knowledge graph   \n",
              "\n",
              "                      concept2  \n",
              "12011751       knowledge graph  \n",
              "12011771       knowledge graph  \n",
              "12011790       knowledge graph  \n",
              "12011808       knowledge graph  \n",
              "12011825       knowledge graph  \n",
              "...                        ...  \n",
              "17892256      clinical dataset  \n",
              "17892257     clinical datasets  \n",
              "17892258  representation model  \n",
              "17892259  spearman correlation  \n",
              "17892260   edge representation  \n",
              "\n",
              "[3944 rows x 5 columns]"
            ],
            "text/html": [
              "\n",
              "  <div id=\"df-748c34a0-701c-4e72-abe1-27d64ef441a5\">\n",
              "    <div class=\"colab-df-container\">\n",
              "      <div>\n",
              "<style scoped>\n",
              "    .dataframe tbody tr th:only-of-type {\n",
              "        vertical-align: middle;\n",
              "    }\n",
              "\n",
              "    .dataframe tbody tr th {\n",
              "        vertical-align: top;\n",
              "    }\n",
              "\n",
              "    .dataframe thead th {\n",
              "        text-align: right;\n",
              "    }\n",
              "</style>\n",
              "<table border=\"1\" class=\"dataframe\">\n",
              "  <thead>\n",
              "    <tr style=\"text-align: right;\">\n",
              "      <th></th>\n",
              "      <th>node1</th>\n",
              "      <th>node2</th>\n",
              "      <th>timestamp</th>\n",
              "      <th>concept1</th>\n",
              "      <th>concept2</th>\n",
              "    </tr>\n",
              "  </thead>\n",
              "  <tbody>\n",
              "    <tr>\n",
              "      <th>12011751</th>\n",
              "      <td>1.0</td>\n",
              "      <td>31910.0</td>\n",
              "      <td>10611.0</td>\n",
              "      <td>convolutional neural network</td>\n",
              "      <td>knowledge graph</td>\n",
              "    </tr>\n",
              "    <tr>\n",
              "      <th>12011771</th>\n",
              "      <td>73.0</td>\n",
              "      <td>31910.0</td>\n",
              "      <td>10611.0</td>\n",
              "      <td>zero shot learning</td>\n",
              "      <td>knowledge graph</td>\n",
              "    </tr>\n",
              "    <tr>\n",
              "      <th>12011790</th>\n",
              "      <td>788.0</td>\n",
              "      <td>31910.0</td>\n",
              "      <td>10611.0</td>\n",
              "      <td>transfer learning method</td>\n",
              "      <td>knowledge graph</td>\n",
              "    </tr>\n",
              "    <tr>\n",
              "      <th>12011808</th>\n",
              "      <td>7557.0</td>\n",
              "      <td>31910.0</td>\n",
              "      <td>10611.0</td>\n",
              "      <td>human understandable explanation</td>\n",
              "      <td>knowledge graph</td>\n",
              "    </tr>\n",
              "    <tr>\n",
              "      <th>12011825</th>\n",
              "      <td>31762.0</td>\n",
              "      <td>31910.0</td>\n",
              "      <td>10611.0</td>\n",
              "      <td>neural network</td>\n",
              "      <td>knowledge graph</td>\n",
              "    </tr>\n",
              "    <tr>\n",
              "      <th>...</th>\n",
              "      <td>...</td>\n",
              "      <td>...</td>\n",
              "      <td>...</td>\n",
              "      <td>...</td>\n",
              "      <td>...</td>\n",
              "    </tr>\n",
              "    <tr>\n",
              "      <th>17892256</th>\n",
              "      <td>31910.0</td>\n",
              "      <td>42185.0</td>\n",
              "      <td>10954.0</td>\n",
              "      <td>knowledge graph</td>\n",
              "      <td>clinical dataset</td>\n",
              "    </tr>\n",
              "    <tr>\n",
              "      <th>17892257</th>\n",
              "      <td>31910.0</td>\n",
              "      <td>42717.0</td>\n",
              "      <td>10954.0</td>\n",
              "      <td>knowledge graph</td>\n",
              "      <td>clinical datasets</td>\n",
              "    </tr>\n",
              "    <tr>\n",
              "      <th>17892258</th>\n",
              "      <td>31910.0</td>\n",
              "      <td>47635.0</td>\n",
              "      <td>10954.0</td>\n",
              "      <td>knowledge graph</td>\n",
              "      <td>representation model</td>\n",
              "    </tr>\n",
              "    <tr>\n",
              "      <th>17892259</th>\n",
              "      <td>31910.0</td>\n",
              "      <td>51187.0</td>\n",
              "      <td>10954.0</td>\n",
              "      <td>knowledge graph</td>\n",
              "      <td>spearman correlation</td>\n",
              "    </tr>\n",
              "    <tr>\n",
              "      <th>17892260</th>\n",
              "      <td>31910.0</td>\n",
              "      <td>63351.0</td>\n",
              "      <td>10954.0</td>\n",
              "      <td>knowledge graph</td>\n",
              "      <td>edge representation</td>\n",
              "    </tr>\n",
              "  </tbody>\n",
              "</table>\n",
              "<p>3944 rows × 5 columns</p>\n",
              "</div>\n",
              "      <button class=\"colab-df-convert\" onclick=\"convertToInteractive('df-748c34a0-701c-4e72-abe1-27d64ef441a5')\"\n",
              "              title=\"Convert this dataframe to an interactive table.\"\n",
              "              style=\"display:none;\">\n",
              "        \n",
              "  <svg xmlns=\"http://www.w3.org/2000/svg\" height=\"24px\"viewBox=\"0 0 24 24\"\n",
              "       width=\"24px\">\n",
              "    <path d=\"M0 0h24v24H0V0z\" fill=\"none\"/>\n",
              "    <path d=\"M18.56 5.44l.94 2.06.94-2.06 2.06-.94-2.06-.94-.94-2.06-.94 2.06-2.06.94zm-11 1L8.5 8.5l.94-2.06 2.06-.94-2.06-.94L8.5 2.5l-.94 2.06-2.06.94zm10 10l.94 2.06.94-2.06 2.06-.94-2.06-.94-.94-2.06-.94 2.06-2.06.94z\"/><path d=\"M17.41 7.96l-1.37-1.37c-.4-.4-.92-.59-1.43-.59-.52 0-1.04.2-1.43.59L10.3 9.45l-7.72 7.72c-.78.78-.78 2.05 0 2.83L4 21.41c.39.39.9.59 1.41.59.51 0 1.02-.2 1.41-.59l7.78-7.78 2.81-2.81c.8-.78.8-2.07 0-2.86zM5.41 20L4 18.59l7.72-7.72 1.47 1.35L5.41 20z\"/>\n",
              "  </svg>\n",
              "      </button>\n",
              "      \n",
              "  <style>\n",
              "    .colab-df-container {\n",
              "      display:flex;\n",
              "      flex-wrap:wrap;\n",
              "      gap: 12px;\n",
              "    }\n",
              "\n",
              "    .colab-df-convert {\n",
              "      background-color: #E8F0FE;\n",
              "      border: none;\n",
              "      border-radius: 50%;\n",
              "      cursor: pointer;\n",
              "      display: none;\n",
              "      fill: #1967D2;\n",
              "      height: 32px;\n",
              "      padding: 0 0 0 0;\n",
              "      width: 32px;\n",
              "    }\n",
              "\n",
              "    .colab-df-convert:hover {\n",
              "      background-color: #E2EBFA;\n",
              "      box-shadow: 0px 1px 2px rgba(60, 64, 67, 0.3), 0px 1px 3px 1px rgba(60, 64, 67, 0.15);\n",
              "      fill: #174EA6;\n",
              "    }\n",
              "\n",
              "    [theme=dark] .colab-df-convert {\n",
              "      background-color: #3B4455;\n",
              "      fill: #D2E3FC;\n",
              "    }\n",
              "\n",
              "    [theme=dark] .colab-df-convert:hover {\n",
              "      background-color: #434B5C;\n",
              "      box-shadow: 0px 1px 3px 1px rgba(0, 0, 0, 0.15);\n",
              "      filter: drop-shadow(0px 1px 2px rgba(0, 0, 0, 0.3));\n",
              "      fill: #FFFFFF;\n",
              "    }\n",
              "  </style>\n",
              "\n",
              "      <script>\n",
              "        const buttonEl =\n",
              "          document.querySelector('#df-748c34a0-701c-4e72-abe1-27d64ef441a5 button.colab-df-convert');\n",
              "        buttonEl.style.display =\n",
              "          google.colab.kernel.accessAllowed ? 'block' : 'none';\n",
              "\n",
              "        async function convertToInteractive(key) {\n",
              "          const element = document.querySelector('#df-748c34a0-701c-4e72-abe1-27d64ef441a5');\n",
              "          const dataTable =\n",
              "            await google.colab.kernel.invokeFunction('convertToInteractive',\n",
              "                                                     [key], {});\n",
              "          if (!dataTable) return;\n",
              "\n",
              "          const docLinkHtml = 'Like what you see? Visit the ' +\n",
              "            '<a target=\"_blank\" href=https://colab.research.google.com/notebooks/data_table.ipynb>data table notebook</a>'\n",
              "            + ' to learn more about interactive tables.';\n",
              "          element.innerHTML = '';\n",
              "          dataTable['output_type'] = 'display_data';\n",
              "          await google.colab.output.renderOutput(dataTable, element);\n",
              "          const docLink = document.createElement('div');\n",
              "          docLink.innerHTML = docLinkHtml;\n",
              "          element.appendChild(docLink);\n",
              "        }\n",
              "      </script>\n",
              "    </div>\n",
              "  </div>\n",
              "  "
            ]
          },
          "metadata": {},
          "execution_count": 22
        }
      ]
    },
    {
      "cell_type": "code",
      "source": [
        "kg_small = filter_by_year(kg_edges, before=2019, after=2018)\n",
        "map_concepts(kg_small)"
      ],
      "metadata": {
        "colab": {
          "base_uri": "https://localhost:8080/",
          "height": 630
        },
        "id": "dDmY3X8eD5o6",
        "outputId": "b20ca78d-f0bc-410b-e9ae-f609dde33558"
      },
      "execution_count": null,
      "outputs": [
        {
          "output_type": "stream",
          "name": "stderr",
          "text": [
            "/usr/local/lib/python3.7/dist-packages/ipykernel_launcher.py:18: SettingWithCopyWarning: \n",
            "A value is trying to be set on a copy of a slice from a DataFrame.\n",
            "Try using .loc[row_indexer,col_indexer] = value instead\n",
            "\n",
            "See the caveats in the documentation: https://pandas.pydata.org/pandas-docs/stable/user_guide/indexing.html#returning-a-view-versus-a-copy\n",
            "/usr/local/lib/python3.7/dist-packages/ipykernel_launcher.py:19: SettingWithCopyWarning: \n",
            "A value is trying to be set on a copy of a slice from a DataFrame.\n",
            "Try using .loc[row_indexer,col_indexer] = value instead\n",
            "\n",
            "See the caveats in the documentation: https://pandas.pydata.org/pandas-docs/stable/user_guide/indexing.html#returning-a-view-versus-a-copy\n"
          ]
        },
        {
          "output_type": "execute_result",
          "data": {
            "text/plain": [
              "            node1    node2  timestamp  \\\n",
              "7720005     812.0  31910.0    10237.0   \n",
              "7720020     905.0  31910.0    10237.0   \n",
              "7720034    5087.0  31910.0    10237.0   \n",
              "7720047   21330.0  31910.0    10237.0   \n",
              "7720059   26500.0  31910.0    10237.0   \n",
              "...           ...      ...        ...   \n",
              "17892256  31910.0  42185.0    10954.0   \n",
              "17892257  31910.0  42717.0    10954.0   \n",
              "17892258  31910.0  47635.0    10954.0   \n",
              "17892259  31910.0  51187.0    10954.0   \n",
              "17892260  31910.0  63351.0    10954.0   \n",
              "\n",
              "                                         concept1              concept2  \n",
              "7720005                 question answering system       knowledge graph  \n",
              "7720020               travelling salesman problem       knowledge graph  \n",
              "7720034                    natural language input       knowledge graph  \n",
              "7720047   generalised travelling salesman problem       knowledge graph  \n",
              "7720059                underlying knowledge graph       knowledge graph  \n",
              "...                                           ...                   ...  \n",
              "17892256                          knowledge graph      clinical dataset  \n",
              "17892257                          knowledge graph     clinical datasets  \n",
              "17892258                          knowledge graph  representation model  \n",
              "17892259                          knowledge graph  spearman correlation  \n",
              "17892260                          knowledge graph   edge representation  \n",
              "\n",
              "[5598 rows x 5 columns]"
            ],
            "text/html": [
              "\n",
              "  <div id=\"df-f2174fff-bfdf-4da7-88bf-c21bab0ad116\">\n",
              "    <div class=\"colab-df-container\">\n",
              "      <div>\n",
              "<style scoped>\n",
              "    .dataframe tbody tr th:only-of-type {\n",
              "        vertical-align: middle;\n",
              "    }\n",
              "\n",
              "    .dataframe tbody tr th {\n",
              "        vertical-align: top;\n",
              "    }\n",
              "\n",
              "    .dataframe thead th {\n",
              "        text-align: right;\n",
              "    }\n",
              "</style>\n",
              "<table border=\"1\" class=\"dataframe\">\n",
              "  <thead>\n",
              "    <tr style=\"text-align: right;\">\n",
              "      <th></th>\n",
              "      <th>node1</th>\n",
              "      <th>node2</th>\n",
              "      <th>timestamp</th>\n",
              "      <th>concept1</th>\n",
              "      <th>concept2</th>\n",
              "    </tr>\n",
              "  </thead>\n",
              "  <tbody>\n",
              "    <tr>\n",
              "      <th>7720005</th>\n",
              "      <td>812.0</td>\n",
              "      <td>31910.0</td>\n",
              "      <td>10237.0</td>\n",
              "      <td>question answering system</td>\n",
              "      <td>knowledge graph</td>\n",
              "    </tr>\n",
              "    <tr>\n",
              "      <th>7720020</th>\n",
              "      <td>905.0</td>\n",
              "      <td>31910.0</td>\n",
              "      <td>10237.0</td>\n",
              "      <td>travelling salesman problem</td>\n",
              "      <td>knowledge graph</td>\n",
              "    </tr>\n",
              "    <tr>\n",
              "      <th>7720034</th>\n",
              "      <td>5087.0</td>\n",
              "      <td>31910.0</td>\n",
              "      <td>10237.0</td>\n",
              "      <td>natural language input</td>\n",
              "      <td>knowledge graph</td>\n",
              "    </tr>\n",
              "    <tr>\n",
              "      <th>7720047</th>\n",
              "      <td>21330.0</td>\n",
              "      <td>31910.0</td>\n",
              "      <td>10237.0</td>\n",
              "      <td>generalised travelling salesman problem</td>\n",
              "      <td>knowledge graph</td>\n",
              "    </tr>\n",
              "    <tr>\n",
              "      <th>7720059</th>\n",
              "      <td>26500.0</td>\n",
              "      <td>31910.0</td>\n",
              "      <td>10237.0</td>\n",
              "      <td>underlying knowledge graph</td>\n",
              "      <td>knowledge graph</td>\n",
              "    </tr>\n",
              "    <tr>\n",
              "      <th>...</th>\n",
              "      <td>...</td>\n",
              "      <td>...</td>\n",
              "      <td>...</td>\n",
              "      <td>...</td>\n",
              "      <td>...</td>\n",
              "    </tr>\n",
              "    <tr>\n",
              "      <th>17892256</th>\n",
              "      <td>31910.0</td>\n",
              "      <td>42185.0</td>\n",
              "      <td>10954.0</td>\n",
              "      <td>knowledge graph</td>\n",
              "      <td>clinical dataset</td>\n",
              "    </tr>\n",
              "    <tr>\n",
              "      <th>17892257</th>\n",
              "      <td>31910.0</td>\n",
              "      <td>42717.0</td>\n",
              "      <td>10954.0</td>\n",
              "      <td>knowledge graph</td>\n",
              "      <td>clinical datasets</td>\n",
              "    </tr>\n",
              "    <tr>\n",
              "      <th>17892258</th>\n",
              "      <td>31910.0</td>\n",
              "      <td>47635.0</td>\n",
              "      <td>10954.0</td>\n",
              "      <td>knowledge graph</td>\n",
              "      <td>representation model</td>\n",
              "    </tr>\n",
              "    <tr>\n",
              "      <th>17892259</th>\n",
              "      <td>31910.0</td>\n",
              "      <td>51187.0</td>\n",
              "      <td>10954.0</td>\n",
              "      <td>knowledge graph</td>\n",
              "      <td>spearman correlation</td>\n",
              "    </tr>\n",
              "    <tr>\n",
              "      <th>17892260</th>\n",
              "      <td>31910.0</td>\n",
              "      <td>63351.0</td>\n",
              "      <td>10954.0</td>\n",
              "      <td>knowledge graph</td>\n",
              "      <td>edge representation</td>\n",
              "    </tr>\n",
              "  </tbody>\n",
              "</table>\n",
              "<p>5598 rows × 5 columns</p>\n",
              "</div>\n",
              "      <button class=\"colab-df-convert\" onclick=\"convertToInteractive('df-f2174fff-bfdf-4da7-88bf-c21bab0ad116')\"\n",
              "              title=\"Convert this dataframe to an interactive table.\"\n",
              "              style=\"display:none;\">\n",
              "        \n",
              "  <svg xmlns=\"http://www.w3.org/2000/svg\" height=\"24px\"viewBox=\"0 0 24 24\"\n",
              "       width=\"24px\">\n",
              "    <path d=\"M0 0h24v24H0V0z\" fill=\"none\"/>\n",
              "    <path d=\"M18.56 5.44l.94 2.06.94-2.06 2.06-.94-2.06-.94-.94-2.06-.94 2.06-2.06.94zm-11 1L8.5 8.5l.94-2.06 2.06-.94-2.06-.94L8.5 2.5l-.94 2.06-2.06.94zm10 10l.94 2.06.94-2.06 2.06-.94-2.06-.94-.94-2.06-.94 2.06-2.06.94z\"/><path d=\"M17.41 7.96l-1.37-1.37c-.4-.4-.92-.59-1.43-.59-.52 0-1.04.2-1.43.59L10.3 9.45l-7.72 7.72c-.78.78-.78 2.05 0 2.83L4 21.41c.39.39.9.59 1.41.59.51 0 1.02-.2 1.41-.59l7.78-7.78 2.81-2.81c.8-.78.8-2.07 0-2.86zM5.41 20L4 18.59l7.72-7.72 1.47 1.35L5.41 20z\"/>\n",
              "  </svg>\n",
              "      </button>\n",
              "      \n",
              "  <style>\n",
              "    .colab-df-container {\n",
              "      display:flex;\n",
              "      flex-wrap:wrap;\n",
              "      gap: 12px;\n",
              "    }\n",
              "\n",
              "    .colab-df-convert {\n",
              "      background-color: #E8F0FE;\n",
              "      border: none;\n",
              "      border-radius: 50%;\n",
              "      cursor: pointer;\n",
              "      display: none;\n",
              "      fill: #1967D2;\n",
              "      height: 32px;\n",
              "      padding: 0 0 0 0;\n",
              "      width: 32px;\n",
              "    }\n",
              "\n",
              "    .colab-df-convert:hover {\n",
              "      background-color: #E2EBFA;\n",
              "      box-shadow: 0px 1px 2px rgba(60, 64, 67, 0.3), 0px 1px 3px 1px rgba(60, 64, 67, 0.15);\n",
              "      fill: #174EA6;\n",
              "    }\n",
              "\n",
              "    [theme=dark] .colab-df-convert {\n",
              "      background-color: #3B4455;\n",
              "      fill: #D2E3FC;\n",
              "    }\n",
              "\n",
              "    [theme=dark] .colab-df-convert:hover {\n",
              "      background-color: #434B5C;\n",
              "      box-shadow: 0px 1px 3px 1px rgba(0, 0, 0, 0.15);\n",
              "      filter: drop-shadow(0px 1px 2px rgba(0, 0, 0, 0.3));\n",
              "      fill: #FFFFFF;\n",
              "    }\n",
              "  </style>\n",
              "\n",
              "      <script>\n",
              "        const buttonEl =\n",
              "          document.querySelector('#df-f2174fff-bfdf-4da7-88bf-c21bab0ad116 button.colab-df-convert');\n",
              "        buttonEl.style.display =\n",
              "          google.colab.kernel.accessAllowed ? 'block' : 'none';\n",
              "\n",
              "        async function convertToInteractive(key) {\n",
              "          const element = document.querySelector('#df-f2174fff-bfdf-4da7-88bf-c21bab0ad116');\n",
              "          const dataTable =\n",
              "            await google.colab.kernel.invokeFunction('convertToInteractive',\n",
              "                                                     [key], {});\n",
              "          if (!dataTable) return;\n",
              "\n",
              "          const docLinkHtml = 'Like what you see? Visit the ' +\n",
              "            '<a target=\"_blank\" href=https://colab.research.google.com/notebooks/data_table.ipynb>data table notebook</a>'\n",
              "            + ' to learn more about interactive tables.';\n",
              "          element.innerHTML = '';\n",
              "          dataTable['output_type'] = 'display_data';\n",
              "          await google.colab.output.renderOutput(dataTable, element);\n",
              "          const docLink = document.createElement('div');\n",
              "          docLink.innerHTML = docLinkHtml;\n",
              "          element.appendChild(docLink);\n",
              "        }\n",
              "      </script>\n",
              "    </div>\n",
              "  </div>\n",
              "  "
            ]
          },
          "metadata": {},
          "execution_count": 23
        }
      ]
    },
    {
      "cell_type": "code",
      "source": [
        "# kg_small = kg_small.drop(['timestamp'], axis=1)\n",
        "# kg_small = kg_small.rename({'node1':'source', 'node2':'target'}, axis=1)\n",
        "# kg_small\n"
      ],
      "metadata": {
        "id": "NZNLP13T9K4f"
      },
      "execution_count": null,
      "outputs": []
    }
  ]
}